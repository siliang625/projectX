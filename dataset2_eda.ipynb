{
  "nbformat": 4,
  "nbformat_minor": 0,
  "metadata": {
    "colab": {
      "name": "dataset2_eda.ipynb",
      "provenance": [],
      "authorship_tag": "ABX9TyOF0qdXS+A3VQjZKs7SX5gc",
      "include_colab_link": true
    },
    "kernelspec": {
      "name": "python3",
      "display_name": "Python 3"
    }
  },
  "cells": [
    {
      "cell_type": "markdown",
      "metadata": {
        "id": "view-in-github",
        "colab_type": "text"
      },
      "source": [
        "<a href=\"https://colab.research.google.com/github/siliang625/projectX/blob/master/dataset2_eda.ipynb\" target=\"_parent\"><img src=\"https://colab.research.google.com/assets/colab-badge.svg\" alt=\"Open In Colab\"/></a>"
      ]
    },
    {
      "cell_type": "code",
      "metadata": {
        "id": "UrMpdlOhVtDu",
        "colab_type": "code",
        "colab": {
          "base_uri": "https://localhost:8080/",
          "height": 102
        },
        "outputId": "4be01fde-171b-411c-8492-99542a57efdd"
      },
      "source": [
        "!pip install pandas"
      ],
      "execution_count": 1,
      "outputs": [
        {
          "output_type": "stream",
          "text": [
            "Requirement already satisfied: pandas in /usr/local/lib/python3.6/dist-packages (1.0.5)\n",
            "Requirement already satisfied: python-dateutil>=2.6.1 in /usr/local/lib/python3.6/dist-packages (from pandas) (2.8.1)\n",
            "Requirement already satisfied: numpy>=1.13.3 in /usr/local/lib/python3.6/dist-packages (from pandas) (1.18.5)\n",
            "Requirement already satisfied: pytz>=2017.2 in /usr/local/lib/python3.6/dist-packages (from pandas) (2018.9)\n",
            "Requirement already satisfied: six>=1.5 in /usr/local/lib/python3.6/dist-packages (from python-dateutil>=2.6.1->pandas) (1.15.0)\n"
          ],
          "name": "stdout"
        }
      ]
    },
    {
      "cell_type": "markdown",
      "metadata": {
        "id": "cenW6HtUY7De",
        "colab_type": "text"
      },
      "source": [
        "## Dataset: Severe Storm Event Details\n",
        "\n",
        "dataset source: https://console.cloud.google.com/bigquery?project=around-204022&folder=&organizationId=&p=bigquery-public-data&d=noaa_historic_severe_storms&t=storms_2020&page=table\n",
        "\n",
        "This is partial data from year 2020, original data ranges from 1950 till now."
      ]
    },
    {
      "cell_type": "code",
      "metadata": {
        "id": "8lNtyunxV5g5",
        "colab_type": "code",
        "colab": {
          "base_uri": "https://localhost:8080/",
          "height": 34
        },
        "outputId": "3faec3fa-d756-47e5-e76f-49ee14ec8608"
      },
      "source": [
        "!ls"
      ],
      "execution_count": 6,
      "outputs": [
        {
          "output_type": "stream",
          "text": [
            "sample\tsample_data\n"
          ],
          "name": "stdout"
        }
      ]
    },
    {
      "cell_type": "code",
      "metadata": {
        "id": "oKN4mYWXYis_",
        "colab_type": "code",
        "colab": {}
      },
      "source": [
        "import pandas as pd"
      ],
      "execution_count": 8,
      "outputs": []
    },
    {
      "cell_type": "code",
      "metadata": {
        "id": "JgA0lzEnYScr",
        "colab_type": "code",
        "colab": {}
      },
      "source": [
        "df = pd.read_csv(\"sample.csv\")"
      ],
      "execution_count": 18,
      "outputs": []
    },
    {
      "cell_type": "code",
      "metadata": {
        "id": "8OpRE4ueaqaJ",
        "colab_type": "code",
        "colab": {
          "base_uri": "https://localhost:8080/",
          "height": 549
        },
        "outputId": "a82d19f0-6329-4e07-bbd0-182496ff8a11"
      },
      "source": [
        "df.head(10)"
      ],
      "execution_count": 19,
      "outputs": [
        {
          "output_type": "execute_result",
          "data": {
            "text/html": [
              "<div>\n",
              "<style scoped>\n",
              "    .dataframe tbody tr th:only-of-type {\n",
              "        vertical-align: middle;\n",
              "    }\n",
              "\n",
              "    .dataframe tbody tr th {\n",
              "        vertical-align: top;\n",
              "    }\n",
              "\n",
              "    .dataframe thead th {\n",
              "        text-align: right;\n",
              "    }\n",
              "</style>\n",
              "<table border=\"1\" class=\"dataframe\">\n",
              "  <thead>\n",
              "    <tr style=\"text-align: right;\">\n",
              "      <th></th>\n",
              "      <th>episode_id</th>\n",
              "      <th>event_id</th>\n",
              "      <th>state</th>\n",
              "      <th>state_fips_code</th>\n",
              "      <th>event_type</th>\n",
              "      <th>cz_type</th>\n",
              "      <th>cz_fips_code</th>\n",
              "      <th>cz_name</th>\n",
              "      <th>wfo</th>\n",
              "      <th>event_begin_time</th>\n",
              "      <th>event_timezone</th>\n",
              "      <th>event_end_time</th>\n",
              "      <th>injuries_direct</th>\n",
              "      <th>injuries_indirect</th>\n",
              "      <th>deaths_direct</th>\n",
              "      <th>deaths_indirect</th>\n",
              "      <th>damage_property</th>\n",
              "      <th>damage_crops</th>\n",
              "      <th>source</th>\n",
              "      <th>magnitude</th>\n",
              "      <th>magnitude_type</th>\n",
              "      <th>flood_cause</th>\n",
              "      <th>tor_f_scale</th>\n",
              "      <th>tor_length</th>\n",
              "      <th>tor_width</th>\n",
              "      <th>tor_other_wfo</th>\n",
              "      <th>location_index</th>\n",
              "      <th>event_range</th>\n",
              "      <th>event_azimuth</th>\n",
              "      <th>reference_location</th>\n",
              "      <th>event_latitude</th>\n",
              "      <th>event_longitude</th>\n",
              "      <th>event_point</th>\n",
              "    </tr>\n",
              "  </thead>\n",
              "  <tbody>\n",
              "    <tr>\n",
              "      <th>0</th>\n",
              "      <td>143960</td>\n",
              "      <td>865452</td>\n",
              "      <td>Oklahoma</td>\n",
              "      <td>40</td>\n",
              "      <td>hail</td>\n",
              "      <td>C</td>\n",
              "      <td>143</td>\n",
              "      <td>TULSA</td>\n",
              "      <td>TSA</td>\n",
              "      <td>2020-01-10 11:35:00</td>\n",
              "      <td>CST-6</td>\n",
              "      <td>2020-01-10 11:35:00</td>\n",
              "      <td>0</td>\n",
              "      <td>0</td>\n",
              "      <td>0</td>\n",
              "      <td>0</td>\n",
              "      <td>0.0</td>\n",
              "      <td>0.0</td>\n",
              "      <td>Broadcast Media</td>\n",
              "      <td>1.00</td>\n",
              "      <td>NaN</td>\n",
              "      <td>NaN</td>\n",
              "      <td>NaN</td>\n",
              "      <td>NaN</td>\n",
              "      <td>0.0</td>\n",
              "      <td>NaN</td>\n",
              "      <td>1.0</td>\n",
              "      <td>0.24</td>\n",
              "      <td>ENE</td>\n",
              "      <td>TULSA</td>\n",
              "      <td>36.1514</td>\n",
              "      <td>-95.9460</td>\n",
              "      <td>POINT(-95.946 36.1514)</td>\n",
              "    </tr>\n",
              "    <tr>\n",
              "      <th>1</th>\n",
              "      <td>143960</td>\n",
              "      <td>865455</td>\n",
              "      <td>Oklahoma</td>\n",
              "      <td>40</td>\n",
              "      <td>hail</td>\n",
              "      <td>C</td>\n",
              "      <td>21</td>\n",
              "      <td>CHEROKEE</td>\n",
              "      <td>TSA</td>\n",
              "      <td>2020-01-10 15:02:00</td>\n",
              "      <td>CST-6</td>\n",
              "      <td>2020-01-10 15:02:00</td>\n",
              "      <td>0</td>\n",
              "      <td>0</td>\n",
              "      <td>0</td>\n",
              "      <td>0</td>\n",
              "      <td>15000.0</td>\n",
              "      <td>0.0</td>\n",
              "      <td>Amateur Radio</td>\n",
              "      <td>1.75</td>\n",
              "      <td>NaN</td>\n",
              "      <td>NaN</td>\n",
              "      <td>NaN</td>\n",
              "      <td>NaN</td>\n",
              "      <td>0.0</td>\n",
              "      <td>NaN</td>\n",
              "      <td>1.0</td>\n",
              "      <td>0.65</td>\n",
              "      <td>S</td>\n",
              "      <td>TAHLEQUAH</td>\n",
              "      <td>35.9106</td>\n",
              "      <td>-94.9710</td>\n",
              "      <td>POINT(-94.971 35.9106)</td>\n",
              "    </tr>\n",
              "    <tr>\n",
              "      <th>2</th>\n",
              "      <td>143960</td>\n",
              "      <td>865453</td>\n",
              "      <td>Oklahoma</td>\n",
              "      <td>40</td>\n",
              "      <td>hail</td>\n",
              "      <td>C</td>\n",
              "      <td>143</td>\n",
              "      <td>TULSA</td>\n",
              "      <td>TSA</td>\n",
              "      <td>2020-01-10 11:36:00</td>\n",
              "      <td>CST-6</td>\n",
              "      <td>2020-01-10 11:36:00</td>\n",
              "      <td>0</td>\n",
              "      <td>0</td>\n",
              "      <td>0</td>\n",
              "      <td>0</td>\n",
              "      <td>0.0</td>\n",
              "      <td>0.0</td>\n",
              "      <td>Emergency Manager</td>\n",
              "      <td>1.00</td>\n",
              "      <td>NaN</td>\n",
              "      <td>NaN</td>\n",
              "      <td>NaN</td>\n",
              "      <td>NaN</td>\n",
              "      <td>0.0</td>\n",
              "      <td>NaN</td>\n",
              "      <td>1.0</td>\n",
              "      <td>2.95</td>\n",
              "      <td>NNE</td>\n",
              "      <td>TULSA R L JONES ARPT</td>\n",
              "      <td>36.0690</td>\n",
              "      <td>-95.9585</td>\n",
              "      <td>POINT(-95.9585 36.069)</td>\n",
              "    </tr>\n",
              "    <tr>\n",
              "      <th>3</th>\n",
              "      <td>143960</td>\n",
              "      <td>865454</td>\n",
              "      <td>Oklahoma</td>\n",
              "      <td>40</td>\n",
              "      <td>hail</td>\n",
              "      <td>C</td>\n",
              "      <td>143</td>\n",
              "      <td>TULSA</td>\n",
              "      <td>TSA</td>\n",
              "      <td>2020-01-10 11:38:00</td>\n",
              "      <td>CST-6</td>\n",
              "      <td>2020-01-10 11:38:00</td>\n",
              "      <td>0</td>\n",
              "      <td>0</td>\n",
              "      <td>0</td>\n",
              "      <td>0</td>\n",
              "      <td>0.0</td>\n",
              "      <td>0.0</td>\n",
              "      <td>Public</td>\n",
              "      <td>0.75</td>\n",
              "      <td>NaN</td>\n",
              "      <td>NaN</td>\n",
              "      <td>NaN</td>\n",
              "      <td>NaN</td>\n",
              "      <td>0.0</td>\n",
              "      <td>NaN</td>\n",
              "      <td>1.0</td>\n",
              "      <td>2.00</td>\n",
              "      <td>N</td>\n",
              "      <td>TULSA</td>\n",
              "      <td>36.1790</td>\n",
              "      <td>-95.9500</td>\n",
              "      <td>POINT(-95.95 36.179)</td>\n",
              "    </tr>\n",
              "    <tr>\n",
              "      <th>4</th>\n",
              "      <td>143993</td>\n",
              "      <td>865695</td>\n",
              "      <td>Texas</td>\n",
              "      <td>48</td>\n",
              "      <td>hail</td>\n",
              "      <td>C</td>\n",
              "      <td>19</td>\n",
              "      <td>BANDERA</td>\n",
              "      <td>EWX</td>\n",
              "      <td>2020-01-10 19:06:00</td>\n",
              "      <td>CST-6</td>\n",
              "      <td>2020-01-10 19:06:00</td>\n",
              "      <td>0</td>\n",
              "      <td>0</td>\n",
              "      <td>0</td>\n",
              "      <td>0</td>\n",
              "      <td>0.0</td>\n",
              "      <td>0.0</td>\n",
              "      <td>CoCoRaHS</td>\n",
              "      <td>0.88</td>\n",
              "      <td>NaN</td>\n",
              "      <td>NaN</td>\n",
              "      <td>NaN</td>\n",
              "      <td>NaN</td>\n",
              "      <td>0.0</td>\n",
              "      <td>NaN</td>\n",
              "      <td>1.0</td>\n",
              "      <td>1.93</td>\n",
              "      <td>ESE</td>\n",
              "      <td>MEDINA LAKE</td>\n",
              "      <td>29.5900</td>\n",
              "      <td>-98.9500</td>\n",
              "      <td>POINT(-98.95 29.59)</td>\n",
              "    </tr>\n",
              "    <tr>\n",
              "      <th>5</th>\n",
              "      <td>143993</td>\n",
              "      <td>865710</td>\n",
              "      <td>Texas</td>\n",
              "      <td>48</td>\n",
              "      <td>hail</td>\n",
              "      <td>C</td>\n",
              "      <td>29</td>\n",
              "      <td>BEXAR</td>\n",
              "      <td>EWX</td>\n",
              "      <td>2020-01-10 19:29:00</td>\n",
              "      <td>CST-6</td>\n",
              "      <td>2020-01-10 19:29:00</td>\n",
              "      <td>0</td>\n",
              "      <td>0</td>\n",
              "      <td>0</td>\n",
              "      <td>0</td>\n",
              "      <td>0.0</td>\n",
              "      <td>0.0</td>\n",
              "      <td>Public</td>\n",
              "      <td>0.88</td>\n",
              "      <td>NaN</td>\n",
              "      <td>NaN</td>\n",
              "      <td>NaN</td>\n",
              "      <td>NaN</td>\n",
              "      <td>0.0</td>\n",
              "      <td>NaN</td>\n",
              "      <td>1.0</td>\n",
              "      <td>0.69</td>\n",
              "      <td>N</td>\n",
              "      <td>HELOTES</td>\n",
              "      <td>29.5900</td>\n",
              "      <td>-98.7000</td>\n",
              "      <td>POINT(-98.7 29.59)</td>\n",
              "    </tr>\n",
              "    <tr>\n",
              "      <th>6</th>\n",
              "      <td>143993</td>\n",
              "      <td>865694</td>\n",
              "      <td>Texas</td>\n",
              "      <td>48</td>\n",
              "      <td>hail</td>\n",
              "      <td>C</td>\n",
              "      <td>19</td>\n",
              "      <td>BANDERA</td>\n",
              "      <td>EWX</td>\n",
              "      <td>2020-01-10 17:45:00</td>\n",
              "      <td>CST-6</td>\n",
              "      <td>2020-01-10 17:45:00</td>\n",
              "      <td>0</td>\n",
              "      <td>0</td>\n",
              "      <td>0</td>\n",
              "      <td>0</td>\n",
              "      <td>0.0</td>\n",
              "      <td>0.0</td>\n",
              "      <td>Trained Spotter</td>\n",
              "      <td>0.75</td>\n",
              "      <td>NaN</td>\n",
              "      <td>NaN</td>\n",
              "      <td>NaN</td>\n",
              "      <td>NaN</td>\n",
              "      <td>0.0</td>\n",
              "      <td>NaN</td>\n",
              "      <td>1.0</td>\n",
              "      <td>6.35</td>\n",
              "      <td>WSW</td>\n",
              "      <td>BANDERA</td>\n",
              "      <td>29.6900</td>\n",
              "      <td>-99.1700</td>\n",
              "      <td>POINT(-99.17 29.69)</td>\n",
              "    </tr>\n",
              "    <tr>\n",
              "      <th>7</th>\n",
              "      <td>143993</td>\n",
              "      <td>865692</td>\n",
              "      <td>Texas</td>\n",
              "      <td>48</td>\n",
              "      <td>hail</td>\n",
              "      <td>C</td>\n",
              "      <td>299</td>\n",
              "      <td>LLANO</td>\n",
              "      <td>EWX</td>\n",
              "      <td>2020-01-10 16:50:00</td>\n",
              "      <td>CST-6</td>\n",
              "      <td>2020-01-10 16:50:00</td>\n",
              "      <td>0</td>\n",
              "      <td>0</td>\n",
              "      <td>0</td>\n",
              "      <td>0</td>\n",
              "      <td>0.0</td>\n",
              "      <td>0.0</td>\n",
              "      <td>Social Media</td>\n",
              "      <td>1.25</td>\n",
              "      <td>NaN</td>\n",
              "      <td>NaN</td>\n",
              "      <td>NaN</td>\n",
              "      <td>NaN</td>\n",
              "      <td>0.0</td>\n",
              "      <td>NaN</td>\n",
              "      <td>1.0</td>\n",
              "      <td>4.31</td>\n",
              "      <td>NNE</td>\n",
              "      <td>OXFORD</td>\n",
              "      <td>30.6600</td>\n",
              "      <td>-98.6800</td>\n",
              "      <td>POINT(-98.68 30.66)</td>\n",
              "    </tr>\n",
              "    <tr>\n",
              "      <th>8</th>\n",
              "      <td>143993</td>\n",
              "      <td>865709</td>\n",
              "      <td>Texas</td>\n",
              "      <td>48</td>\n",
              "      <td>hail</td>\n",
              "      <td>C</td>\n",
              "      <td>31</td>\n",
              "      <td>BLANCO</td>\n",
              "      <td>EWX</td>\n",
              "      <td>2020-01-10 19:26:00</td>\n",
              "      <td>CST-6</td>\n",
              "      <td>2020-01-10 19:26:00</td>\n",
              "      <td>0</td>\n",
              "      <td>0</td>\n",
              "      <td>0</td>\n",
              "      <td>0</td>\n",
              "      <td>0.0</td>\n",
              "      <td>0.0</td>\n",
              "      <td>Public</td>\n",
              "      <td>1.00</td>\n",
              "      <td>NaN</td>\n",
              "      <td>NaN</td>\n",
              "      <td>NaN</td>\n",
              "      <td>NaN</td>\n",
              "      <td>0.0</td>\n",
              "      <td>NaN</td>\n",
              "      <td>1.0</td>\n",
              "      <td>2.16</td>\n",
              "      <td>NNE</td>\n",
              "      <td>BLANCO</td>\n",
              "      <td>30.1300</td>\n",
              "      <td>-98.4100</td>\n",
              "      <td>POINT(-98.41 30.13)</td>\n",
              "    </tr>\n",
              "    <tr>\n",
              "      <th>9</th>\n",
              "      <td>143993</td>\n",
              "      <td>865696</td>\n",
              "      <td>Texas</td>\n",
              "      <td>48</td>\n",
              "      <td>hail</td>\n",
              "      <td>C</td>\n",
              "      <td>325</td>\n",
              "      <td>MEDINA</td>\n",
              "      <td>EWX</td>\n",
              "      <td>2020-01-10 19:20:00</td>\n",
              "      <td>CST-6</td>\n",
              "      <td>2020-01-10 19:20:00</td>\n",
              "      <td>0</td>\n",
              "      <td>0</td>\n",
              "      <td>0</td>\n",
              "      <td>0</td>\n",
              "      <td>0.0</td>\n",
              "      <td>0.0</td>\n",
              "      <td>Public</td>\n",
              "      <td>1.25</td>\n",
              "      <td>NaN</td>\n",
              "      <td>NaN</td>\n",
              "      <td>NaN</td>\n",
              "      <td>NaN</td>\n",
              "      <td>0.0</td>\n",
              "      <td>NaN</td>\n",
              "      <td>1.0</td>\n",
              "      <td>1.83</td>\n",
              "      <td>NW</td>\n",
              "      <td>DEVINE</td>\n",
              "      <td>29.1700</td>\n",
              "      <td>-98.9400</td>\n",
              "      <td>POINT(-98.94 29.17)</td>\n",
              "    </tr>\n",
              "  </tbody>\n",
              "</table>\n",
              "</div>"
            ],
            "text/plain": [
              "   episode_id  event_id  ... event_longitude             event_point\n",
              "0      143960    865452  ...        -95.9460  POINT(-95.946 36.1514)\n",
              "1      143960    865455  ...        -94.9710  POINT(-94.971 35.9106)\n",
              "2      143960    865453  ...        -95.9585  POINT(-95.9585 36.069)\n",
              "3      143960    865454  ...        -95.9500    POINT(-95.95 36.179)\n",
              "4      143993    865695  ...        -98.9500     POINT(-98.95 29.59)\n",
              "5      143993    865710  ...        -98.7000      POINT(-98.7 29.59)\n",
              "6      143993    865694  ...        -99.1700     POINT(-99.17 29.69)\n",
              "7      143993    865692  ...        -98.6800     POINT(-98.68 30.66)\n",
              "8      143993    865709  ...        -98.4100     POINT(-98.41 30.13)\n",
              "9      143993    865696  ...        -98.9400     POINT(-98.94 29.17)\n",
              "\n",
              "[10 rows x 33 columns]"
            ]
          },
          "metadata": {
            "tags": []
          },
          "execution_count": 19
        }
      ]
    },
    {
      "cell_type": "code",
      "metadata": {
        "id": "FJKNSjDNYgMN",
        "colab_type": "code",
        "colab": {
          "base_uri": "https://localhost:8080/",
          "height": 34
        },
        "outputId": "89648559-9538-481f-87e4-21672c31e177"
      },
      "source": [
        "df.shape"
      ],
      "execution_count": 20,
      "outputs": [
        {
          "output_type": "execute_result",
          "data": {
            "text/plain": [
              "(5772, 33)"
            ]
          },
          "metadata": {
            "tags": []
          },
          "execution_count": 20
        }
      ]
    },
    {
      "cell_type": "code",
      "metadata": {
        "id": "XDSPgyMwaaPN",
        "colab_type": "code",
        "colab": {
          "base_uri": "https://localhost:8080/",
          "height": 187
        },
        "outputId": "a30f3516-9c92-4654-ee5c-6a56d6096277"
      },
      "source": [
        "df.columns"
      ],
      "execution_count": 23,
      "outputs": [
        {
          "output_type": "execute_result",
          "data": {
            "text/plain": [
              "Index(['episode_id', 'event_id', 'state', 'state_fips_code', 'event_type',\n",
              "       'cz_type', 'cz_fips_code', 'cz_name', 'wfo', 'event_begin_time',\n",
              "       'event_timezone', 'event_end_time', 'injuries_direct',\n",
              "       'injuries_indirect', 'deaths_direct', 'deaths_indirect',\n",
              "       'damage_property', 'damage_crops', 'source', 'magnitude',\n",
              "       'magnitude_type', 'flood_cause', 'tor_f_scale', 'tor_length',\n",
              "       'tor_width', 'tor_other_wfo', 'location_index', 'event_range',\n",
              "       'event_azimuth', 'reference_location', 'event_latitude',\n",
              "       'event_longitude', 'event_point'],\n",
              "      dtype='object')"
            ]
          },
          "metadata": {
            "tags": []
          },
          "execution_count": 23
        }
      ]
    },
    {
      "cell_type": "code",
      "metadata": {
        "id": "2oOBg69Nafwq",
        "colab_type": "code",
        "colab": {
          "base_uri": "https://localhost:8080/",
          "height": 595
        },
        "outputId": "a043a4f3-7c14-4995-c761-3f4c7d0d5be1"
      },
      "source": [
        "df.dtypes"
      ],
      "execution_count": 24,
      "outputs": [
        {
          "output_type": "execute_result",
          "data": {
            "text/plain": [
              "episode_id              int64\n",
              "event_id                int64\n",
              "state                  object\n",
              "state_fips_code         int64\n",
              "event_type             object\n",
              "cz_type                object\n",
              "cz_fips_code            int64\n",
              "cz_name                object\n",
              "wfo                    object\n",
              "event_begin_time       object\n",
              "event_timezone         object\n",
              "event_end_time         object\n",
              "injuries_direct         int64\n",
              "injuries_indirect       int64\n",
              "deaths_direct           int64\n",
              "deaths_indirect         int64\n",
              "damage_property       float64\n",
              "damage_crops          float64\n",
              "source                 object\n",
              "magnitude             float64\n",
              "magnitude_type        float64\n",
              "flood_cause            object\n",
              "tor_f_scale            object\n",
              "tor_length            float64\n",
              "tor_width             float64\n",
              "tor_other_wfo          object\n",
              "location_index        float64\n",
              "event_range           float64\n",
              "event_azimuth          object\n",
              "reference_location     object\n",
              "event_latitude        float64\n",
              "event_longitude       float64\n",
              "event_point            object\n",
              "dtype: object"
            ]
          },
          "metadata": {
            "tags": []
          },
          "execution_count": 24
        }
      ]
    },
    {
      "cell_type": "code",
      "metadata": {
        "id": "eeakyA_f-qrz",
        "colab_type": "code",
        "colab": {
          "base_uri": "https://localhost:8080/",
          "height": 317
        },
        "outputId": "1ab287f0-c5ba-4c28-ef4c-ac7a57f0f94a"
      },
      "source": [
        "df.describe()"
      ],
      "execution_count": 27,
      "outputs": [
        {
          "output_type": "execute_result",
          "data": {
            "text/html": [
              "<div>\n",
              "<style scoped>\n",
              "    .dataframe tbody tr th:only-of-type {\n",
              "        vertical-align: middle;\n",
              "    }\n",
              "\n",
              "    .dataframe tbody tr th {\n",
              "        vertical-align: top;\n",
              "    }\n",
              "\n",
              "    .dataframe thead th {\n",
              "        text-align: right;\n",
              "    }\n",
              "</style>\n",
              "<table border=\"1\" class=\"dataframe\">\n",
              "  <thead>\n",
              "    <tr style=\"text-align: right;\">\n",
              "      <th></th>\n",
              "      <th>episode_id</th>\n",
              "      <th>event_id</th>\n",
              "      <th>state_fips_code</th>\n",
              "      <th>cz_fips_code</th>\n",
              "      <th>injuries_direct</th>\n",
              "      <th>injuries_indirect</th>\n",
              "      <th>deaths_direct</th>\n",
              "      <th>deaths_indirect</th>\n",
              "      <th>damage_property</th>\n",
              "      <th>damage_crops</th>\n",
              "      <th>magnitude</th>\n",
              "      <th>magnitude_type</th>\n",
              "      <th>tor_length</th>\n",
              "      <th>tor_width</th>\n",
              "      <th>location_index</th>\n",
              "      <th>event_range</th>\n",
              "      <th>event_latitude</th>\n",
              "      <th>event_longitude</th>\n",
              "    </tr>\n",
              "  </thead>\n",
              "  <tbody>\n",
              "    <tr>\n",
              "      <th>count</th>\n",
              "      <td>5772.000000</td>\n",
              "      <td>5772.000000</td>\n",
              "      <td>5772.000000</td>\n",
              "      <td>5772.000000</td>\n",
              "      <td>5772.000000</td>\n",
              "      <td>5772.000000</td>\n",
              "      <td>5772.000000</td>\n",
              "      <td>5772.000000</td>\n",
              "      <td>4.995000e+03</td>\n",
              "      <td>5090.000000</td>\n",
              "      <td>3603.000000</td>\n",
              "      <td>0.0</td>\n",
              "      <td>283.000000</td>\n",
              "      <td>5771.000000</td>\n",
              "      <td>4899.000000</td>\n",
              "      <td>4899.000000</td>\n",
              "      <td>4899.000000</td>\n",
              "      <td>4899.000000</td>\n",
              "    </tr>\n",
              "    <tr>\n",
              "      <th>mean</th>\n",
              "      <td>146737.630284</td>\n",
              "      <td>883614.280146</td>\n",
              "      <td>32.386175</td>\n",
              "      <td>126.198025</td>\n",
              "      <td>0.018365</td>\n",
              "      <td>0.001040</td>\n",
              "      <td>0.004331</td>\n",
              "      <td>0.000520</td>\n",
              "      <td>1.200527e+05</td>\n",
              "      <td>925.550098</td>\n",
              "      <td>1.262154</td>\n",
              "      <td>NaN</td>\n",
              "      <td>4.318233</td>\n",
              "      <td>12.981632</td>\n",
              "      <td>1.003266</td>\n",
              "      <td>2.292886</td>\n",
              "      <td>36.808498</td>\n",
              "      <td>-92.489486</td>\n",
              "    </tr>\n",
              "    <tr>\n",
              "      <th>std</th>\n",
              "      <td>1114.887841</td>\n",
              "      <td>7927.289246</td>\n",
              "      <td>15.656091</td>\n",
              "      <td>111.239249</td>\n",
              "      <td>0.535364</td>\n",
              "      <td>0.045588</td>\n",
              "      <td>0.102720</td>\n",
              "      <td>0.022794</td>\n",
              "      <td>3.875814e+06</td>\n",
              "      <td>23208.622593</td>\n",
              "      <td>0.524807</td>\n",
              "      <td>NaN</td>\n",
              "      <td>4.763245</td>\n",
              "      <td>86.073182</td>\n",
              "      <td>0.092543</td>\n",
              "      <td>3.967482</td>\n",
              "      <td>4.360749</td>\n",
              "      <td>9.103814</td>\n",
              "    </tr>\n",
              "    <tr>\n",
              "      <th>min</th>\n",
              "      <td>143838.000000</td>\n",
              "      <td>863537.000000</td>\n",
              "      <td>1.000000</td>\n",
              "      <td>1.000000</td>\n",
              "      <td>0.000000</td>\n",
              "      <td>0.000000</td>\n",
              "      <td>0.000000</td>\n",
              "      <td>0.000000</td>\n",
              "      <td>0.000000e+00</td>\n",
              "      <td>0.000000</td>\n",
              "      <td>0.130000</td>\n",
              "      <td>NaN</td>\n",
              "      <td>0.020000</td>\n",
              "      <td>0.000000</td>\n",
              "      <td>1.000000</td>\n",
              "      <td>0.000000</td>\n",
              "      <td>18.005300</td>\n",
              "      <td>-161.509700</td>\n",
              "    </tr>\n",
              "    <tr>\n",
              "      <th>25%</th>\n",
              "      <td>145921.000000</td>\n",
              "      <td>877685.500000</td>\n",
              "      <td>20.000000</td>\n",
              "      <td>47.000000</td>\n",
              "      <td>0.000000</td>\n",
              "      <td>0.000000</td>\n",
              "      <td>0.000000</td>\n",
              "      <td>0.000000</td>\n",
              "      <td>0.000000e+00</td>\n",
              "      <td>0.000000</td>\n",
              "      <td>1.000000</td>\n",
              "      <td>NaN</td>\n",
              "      <td>0.995000</td>\n",
              "      <td>0.000000</td>\n",
              "      <td>1.000000</td>\n",
              "      <td>0.690000</td>\n",
              "      <td>34.076800</td>\n",
              "      <td>-97.670000</td>\n",
              "    </tr>\n",
              "    <tr>\n",
              "      <th>50%</th>\n",
              "      <td>146747.000000</td>\n",
              "      <td>883406.500000</td>\n",
              "      <td>36.000000</td>\n",
              "      <td>99.000000</td>\n",
              "      <td>0.000000</td>\n",
              "      <td>0.000000</td>\n",
              "      <td>0.000000</td>\n",
              "      <td>0.000000</td>\n",
              "      <td>0.000000e+00</td>\n",
              "      <td>0.000000</td>\n",
              "      <td>1.000000</td>\n",
              "      <td>NaN</td>\n",
              "      <td>2.960000</td>\n",
              "      <td>0.000000</td>\n",
              "      <td>1.000000</td>\n",
              "      <td>1.380000</td>\n",
              "      <td>36.780000</td>\n",
              "      <td>-92.998500</td>\n",
              "    </tr>\n",
              "    <tr>\n",
              "      <th>75%</th>\n",
              "      <td>147558.000000</td>\n",
              "      <td>889488.250000</td>\n",
              "      <td>48.000000</td>\n",
              "      <td>165.000000</td>\n",
              "      <td>0.000000</td>\n",
              "      <td>0.000000</td>\n",
              "      <td>0.000000</td>\n",
              "      <td>0.000000</td>\n",
              "      <td>0.000000e+00</td>\n",
              "      <td>0.000000</td>\n",
              "      <td>1.500000</td>\n",
              "      <td>NaN</td>\n",
              "      <td>5.865000</td>\n",
              "      <td>0.000000</td>\n",
              "      <td>1.000000</td>\n",
              "      <td>2.810000</td>\n",
              "      <td>39.361650</td>\n",
              "      <td>-86.013200</td>\n",
              "    </tr>\n",
              "    <tr>\n",
              "      <th>max</th>\n",
              "      <td>149182.000000</td>\n",
              "      <td>899276.000000</td>\n",
              "      <td>99.000000</td>\n",
              "      <td>810.000000</td>\n",
              "      <td>33.000000</td>\n",
              "      <td>3.000000</td>\n",
              "      <td>5.000000</td>\n",
              "      <td>1.000000</td>\n",
              "      <td>2.500000e+08</td>\n",
              "      <td>1000000.000000</td>\n",
              "      <td>5.330000</td>\n",
              "      <td>NaN</td>\n",
              "      <td>28.510000</td>\n",
              "      <td>1800.000000</td>\n",
              "      <td>4.000000</td>\n",
              "      <td>109.910000</td>\n",
              "      <td>61.776300</td>\n",
              "      <td>-65.787000</td>\n",
              "    </tr>\n",
              "  </tbody>\n",
              "</table>\n",
              "</div>"
            ],
            "text/plain": [
              "          episode_id       event_id  ...  event_latitude  event_longitude\n",
              "count    5772.000000    5772.000000  ...     4899.000000      4899.000000\n",
              "mean   146737.630284  883614.280146  ...       36.808498       -92.489486\n",
              "std      1114.887841    7927.289246  ...        4.360749         9.103814\n",
              "min    143838.000000  863537.000000  ...       18.005300      -161.509700\n",
              "25%    145921.000000  877685.500000  ...       34.076800       -97.670000\n",
              "50%    146747.000000  883406.500000  ...       36.780000       -92.998500\n",
              "75%    147558.000000  889488.250000  ...       39.361650       -86.013200\n",
              "max    149182.000000  899276.000000  ...       61.776300       -65.787000\n",
              "\n",
              "[8 rows x 18 columns]"
            ]
          },
          "metadata": {
            "tags": []
          },
          "execution_count": 27
        }
      ]
    },
    {
      "cell_type": "code",
      "metadata": {
        "id": "5ohun8yFays9",
        "colab_type": "code",
        "colab": {
          "base_uri": "https://localhost:8080/",
          "height": 284
        },
        "outputId": "6bf87828-1993-4783-f5e6-f9aea1097b36"
      },
      "source": [
        "df.state.hist(figsize=(100,20))"
      ],
      "execution_count": 35,
      "outputs": [
        {
          "output_type": "execute_result",
          "data": {
            "text/plain": [
              "<matplotlib.axes._subplots.AxesSubplot at 0x7fd7e2283da0>"
            ]
          },
          "metadata": {
            "tags": []
          },
          "execution_count": 35
        },
        {
          "output_type": "display_data",
          "data": {
            "image/png": "[encoded data removed]",
            "text/plain": [
              "<Figure size 7200x1440 with 1 Axes>"
            ]
          },
          "metadata": {
            "tags": [],
            "needs_background": "light"
          }
        }
      ]
    },
    {
      "cell_type": "code",
      "metadata": {
        "id": "QC9JkCm49d3-",
        "colab_type": "code",
        "colab": {
          "base_uri": "https://localhost:8080/",
          "height": 339
        },
        "outputId": "d36636c1-37c8-4863-fb10-5319b44e80e6"
      },
      "source": [
        "df.event_timezone.hist(figsize=(10,5))"
      ],
      "execution_count": 34,
      "outputs": [
        {
          "output_type": "execute_result",
          "data": {
            "text/plain": [
              "<matplotlib.axes._subplots.AxesSubplot at 0x7fd7e2359e80>"
            ]
          },
          "metadata": {
            "tags": []
          },
          "execution_count": 34
        },
        {
          "output_type": "display_data",
          "data": {
            "image/png": "[encoded data removed]",
            "text/plain": [
              "<Figure size 720x360 with 1 Axes>"
            ]
          },
          "metadata": {
            "tags": [],
            "needs_background": "light"
          }
        }
      ]
    },
    {
      "cell_type": "code",
      "metadata": {
        "id": "N_3L53s6TJSo",
        "colab_type": "code",
        "colab": {
          "base_uri": "https://localhost:8080/",
          "height": 337
        },
        "outputId": "4fc18621-c5ab-4c1b-e25f-bf3af408c015"
      },
      "source": [
        "df.tor_f_scale.hist(figsize=(20,5))"
      ],
      "execution_count": 38,
      "outputs": [
        {
          "output_type": "execute_result",
          "data": {
            "text/plain": [
              "<matplotlib.axes._subplots.AxesSubplot at 0x7fd7e20c97b8>"
            ]
          },
          "metadata": {
            "tags": []
          },
          "execution_count": 38
        },
        {
          "output_type": "display_data",
          "data": {
            "image/png": "[encoded data removed]",
            "text/plain": [
              "<Figure size 1440x360 with 1 Axes>"
            ]
          },
          "metadata": {
            "tags": [],
            "needs_background": "light"
          }
        }
      ]
    },
    {
      "cell_type": "code",
      "metadata": {
        "id": "jddUXlWiTe6E",
        "colab_type": "code",
        "colab": {}
      },
      "source": [
        ""
      ],
      "execution_count": null,
      "outputs": []
    }
  ]
}