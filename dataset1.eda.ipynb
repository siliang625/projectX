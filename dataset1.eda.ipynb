{
 "cells": [
  {
   "cell_type": "code",
   "execution_count": 2,
   "metadata": {},
   "outputs": [
    {
     "name": "stdout",
     "output_type": "stream",
     "text": [
      "Requirement already satisfied: ee in /Users/siliangliu/opt/miniconda3/lib/python3.8/site-packages (0.2)\n",
      "Requirement already satisfied: blessings in /Users/siliangliu/opt/miniconda3/lib/python3.8/site-packages (from ee) (1.7)\n",
      "Requirement already satisfied: six in /Users/siliangliu/opt/miniconda3/lib/python3.8/site-packages (from blessings->ee) (1.15.0)\n",
      "Requirement already satisfied: geemap in /Users/siliangliu/opt/miniconda3/lib/python3.8/site-packages (0.7.12)\n",
      "Requirement already satisfied: ipynb-py-convert in /Users/siliangliu/opt/miniconda3/lib/python3.8/site-packages (from geemap) (0.4.6)\n",
      "Requirement already satisfied: matplotlib in /Users/siliangliu/opt/miniconda3/lib/python3.8/site-packages (from geemap) (3.3.1)\n",
      "Requirement already satisfied: earthengine-api>=0.1.230 in /Users/siliangliu/opt/miniconda3/lib/python3.8/site-packages (from geemap) (0.1.233)\n",
      "Requirement already satisfied: ipytree in /Users/siliangliu/opt/miniconda3/lib/python3.8/site-packages (from geemap) (0.1.8)\n",
      "Requirement already satisfied: ffmpeg-python in /Users/siliangliu/opt/miniconda3/lib/python3.8/site-packages (from geemap) (0.2.0)\n",
      "Requirement already satisfied: geocoder in /Users/siliangliu/opt/miniconda3/lib/python3.8/site-packages (from geemap) (1.38.1)\n",
      "Requirement already satisfied: ipyleaflet>=0.13.3 in /Users/siliangliu/opt/miniconda3/lib/python3.8/site-packages (from geemap) (0.13.3)\n",
      "Requirement already satisfied: bqplot in /Users/siliangliu/opt/miniconda3/lib/python3.8/site-packages (from geemap) (0.12.17)\n",
      "Requirement already satisfied: folium>=0.11.0 in /Users/siliangliu/opt/miniconda3/lib/python3.8/site-packages (from geemap) (0.11.0)\n",
      "Requirement already satisfied: pyshp in /Users/siliangliu/opt/miniconda3/lib/python3.8/site-packages (from geemap) (2.1.0)\n",
      "Requirement already satisfied: voila in /Users/siliangliu/opt/miniconda3/lib/python3.8/site-packages (from geemap) (0.1.23)\n",
      "Requirement already satisfied: pillow in /Users/siliangliu/opt/miniconda3/lib/python3.8/site-packages (from geemap) (7.2.0)\n",
      "Requirement already satisfied: colour in /Users/siliangliu/opt/miniconda3/lib/python3.8/site-packages (from geemap) (0.1.5)\n",
      "Requirement already satisfied: ipyfilechooser in /Users/siliangliu/opt/miniconda3/lib/python3.8/site-packages (from geemap) (0.3.5)\n",
      "Requirement already satisfied: click in /Users/siliangliu/opt/miniconda3/lib/python3.8/site-packages (from geemap) (7.1.2)\n",
      "Requirement already satisfied: mss in /Users/siliangliu/opt/miniconda3/lib/python3.8/site-packages (from geemap) (6.0.0)\n",
      "Requirement already satisfied: geeadd>=0.5.1 in /Users/siliangliu/opt/miniconda3/lib/python3.8/site-packages (from geemap) (0.5.1)\n",
      "Requirement already satisfied: certifi>=2020.06.20 in /Users/siliangliu/opt/miniconda3/lib/python3.8/site-packages (from matplotlib->geemap) (2020.6.20)\n",
      "Requirement already satisfied: python-dateutil>=2.1 in /Users/siliangliu/opt/miniconda3/lib/python3.8/site-packages (from matplotlib->geemap) (2.8.1)\n",
      "Requirement already satisfied: cycler>=0.10 in /Users/siliangliu/opt/miniconda3/lib/python3.8/site-packages (from matplotlib->geemap) (0.10.0)\n",
      "Requirement already satisfied: numpy>=1.15 in /Users/siliangliu/opt/miniconda3/lib/python3.8/site-packages (from matplotlib->geemap) (1.19.1)\n",
      "Requirement already satisfied: pyparsing!=2.0.4,!=2.1.2,!=2.1.6,>=2.0.3 in /Users/siliangliu/opt/miniconda3/lib/python3.8/site-packages (from matplotlib->geemap) (2.4.7)\n",
      "Requirement already satisfied: kiwisolver>=1.0.1 in /Users/siliangliu/opt/miniconda3/lib/python3.8/site-packages (from matplotlib->geemap) (1.2.0)\n",
      "Requirement already satisfied: google-auth-httplib2>=0.0.3 in /Users/siliangliu/opt/miniconda3/lib/python3.8/site-packages (from earthengine-api>=0.1.230->geemap) (0.0.4)\n",
      "Requirement already satisfied: google-api-python-client in /Users/siliangliu/opt/miniconda3/lib/python3.8/site-packages (from earthengine-api>=0.1.230->geemap) (1.11.0)\n",
      "Requirement already satisfied: google-auth>=1.4.1 in /Users/siliangliu/opt/miniconda3/lib/python3.8/site-packages (from earthengine-api>=0.1.230->geemap) (1.21.1)\n",
      "Requirement already satisfied: google-cloud-storage in /Users/siliangliu/opt/miniconda3/lib/python3.8/site-packages (from earthengine-api>=0.1.230->geemap) (1.31.0)\n",
      "Requirement already satisfied: future in /Users/siliangliu/opt/miniconda3/lib/python3.8/site-packages (from earthengine-api>=0.1.230->geemap) (0.18.2)\n",
      "Requirement already satisfied: httplib2<1dev,>=0.9.2 in /Users/siliangliu/opt/miniconda3/lib/python3.8/site-packages (from earthengine-api>=0.1.230->geemap) (0.18.1)\n",
      "Requirement already satisfied: httplib2shim in /Users/siliangliu/opt/miniconda3/lib/python3.8/site-packages (from earthengine-api>=0.1.230->geemap) (0.0.3)\n",
      "Requirement already satisfied: six in /Users/siliangliu/opt/miniconda3/lib/python3.8/site-packages (from earthengine-api>=0.1.230->geemap) (1.15.0)\n",
      "Requirement already satisfied: ipywidgets<8,>=7.5.0 in /Users/siliangliu/opt/miniconda3/lib/python3.8/site-packages (from ipytree->geemap) (7.5.1)\n",
      "Requirement already satisfied: requests in /Users/siliangliu/opt/miniconda3/lib/python3.8/site-packages (from geocoder->geemap) (2.24.0)\n",
      "Requirement already satisfied: ratelim in /Users/siliangliu/opt/miniconda3/lib/python3.8/site-packages (from geocoder->geemap) (0.1.6)\n",
      "Requirement already satisfied: branca<0.5,>=0.3.1 in /Users/siliangliu/opt/miniconda3/lib/python3.8/site-packages (from ipyleaflet>=0.13.3->geemap) (0.4.1)\n",
      "Requirement already satisfied: traittypes<3,>=0.2.1 in /Users/siliangliu/opt/miniconda3/lib/python3.8/site-packages (from ipyleaflet>=0.13.3->geemap) (0.2.1)\n",
      "Requirement already satisfied: pandas in /Users/siliangliu/opt/miniconda3/lib/python3.8/site-packages (from bqplot->geemap) (1.1.1)\n",
      "Requirement already satisfied: traitlets>=4.3.0 in /Users/siliangliu/opt/miniconda3/lib/python3.8/site-packages (from bqplot->geemap) (5.0.0)\n",
      "Requirement already satisfied: jinja2>=2.9 in /Users/siliangliu/opt/miniconda3/lib/python3.8/site-packages (from folium>=0.11.0->geemap) (2.11.2)\n",
      "Requirement already satisfied: nbconvert<6,>=5.5.0 in /Users/siliangliu/opt/miniconda3/lib/python3.8/site-packages (from voila->geemap) (5.6.1)\n",
      "Requirement already satisfied: async-generator in /Users/siliangliu/opt/miniconda3/lib/python3.8/site-packages (from voila->geemap) (1.10)\n",
      "Requirement already satisfied: jupyter-server<0.2.0,>=0.1.0 in /Users/siliangliu/opt/miniconda3/lib/python3.8/site-packages (from voila->geemap) (0.1.1)\n",
      "Requirement already satisfied: pygments<3,>=2.4.1 in /Users/siliangliu/opt/miniconda3/lib/python3.8/site-packages (from voila->geemap) (2.6.1)\n",
      "Requirement already satisfied: jupyterlab-pygments<0.2,>=0.1.0 in /Users/siliangliu/opt/miniconda3/lib/python3.8/site-packages (from voila->geemap) (0.1.1)\n",
      "Requirement already satisfied: logzero>=1.5.0 in /Users/siliangliu/opt/miniconda3/lib/python3.8/site-packages (from geeadd>=0.5.1->geemap) (1.5.0)\n",
      "Requirement already satisfied: beautifulsoup4>=4.9.0 in /Users/siliangliu/opt/miniconda3/lib/python3.8/site-packages (from geeadd>=0.5.1->geemap) (4.9.1)\n",
      "Requirement already satisfied: google-api-core<2dev,>=1.18.0 in /Users/siliangliu/opt/miniconda3/lib/python3.8/site-packages (from google-api-python-client->earthengine-api>=0.1.230->geemap) (1.22.2)\n",
      "Requirement already satisfied: uritemplate<4dev,>=3.0.0 in /Users/siliangliu/opt/miniconda3/lib/python3.8/site-packages (from google-api-python-client->earthengine-api>=0.1.230->geemap) (3.0.1)\n",
      "Requirement already satisfied: setuptools>=40.3.0 in /Users/siliangliu/opt/miniconda3/lib/python3.8/site-packages (from google-auth>=1.4.1->earthengine-api>=0.1.230->geemap) (49.6.0.post20200814)\n",
      "Requirement already satisfied: cachetools<5.0,>=2.0.0 in /Users/siliangliu/opt/miniconda3/lib/python3.8/site-packages (from google-auth>=1.4.1->earthengine-api>=0.1.230->geemap) (4.1.1)\n",
      "Requirement already satisfied: pyasn1-modules>=0.2.1 in /Users/siliangliu/opt/miniconda3/lib/python3.8/site-packages (from google-auth>=1.4.1->earthengine-api>=0.1.230->geemap) (0.2.8)\n",
      "Requirement already satisfied: rsa<5,>=3.1.4; python_version >= \"3.5\" in /Users/siliangliu/opt/miniconda3/lib/python3.8/site-packages (from google-auth>=1.4.1->earthengine-api>=0.1.230->geemap) (4.6)\n",
      "Requirement already satisfied: google-cloud-core<2.0dev,>=1.4.1 in /Users/siliangliu/opt/miniconda3/lib/python3.8/site-packages (from google-cloud-storage->earthengine-api>=0.1.230->geemap) (1.4.1)\n",
      "Requirement already satisfied: google-resumable-media<2.0dev,>=1.0.0 in /Users/siliangliu/opt/miniconda3/lib/python3.8/site-packages (from google-cloud-storage->earthengine-api>=0.1.230->geemap) (1.0.0)\n",
      "Requirement already satisfied: urllib3 in /Users/siliangliu/opt/miniconda3/lib/python3.8/site-packages (from httplib2shim->earthengine-api>=0.1.230->geemap) (1.25.10)\n",
      "Requirement already satisfied: ipython>=4.0.0; python_version >= \"3.3\" in /Users/siliangliu/opt/miniconda3/lib/python3.8/site-packages (from ipywidgets<8,>=7.5.0->ipytree->geemap) (7.18.1)\n",
      "Requirement already satisfied: widgetsnbextension~=3.5.0 in /Users/siliangliu/opt/miniconda3/lib/python3.8/site-packages (from ipywidgets<8,>=7.5.0->ipytree->geemap) (3.5.1)\n",
      "Requirement already satisfied: ipykernel>=4.5.1 in /Users/siliangliu/opt/miniconda3/lib/python3.8/site-packages (from ipywidgets<8,>=7.5.0->ipytree->geemap) (5.3.4)\n",
      "Requirement already satisfied: nbformat>=4.2.0 in /Users/siliangliu/opt/miniconda3/lib/python3.8/site-packages (from ipywidgets<8,>=7.5.0->ipytree->geemap) (5.0.7)\n",
      "Requirement already satisfied: idna<3,>=2.5 in /Users/siliangliu/opt/miniconda3/lib/python3.8/site-packages (from requests->geocoder->geemap) (2.10)\n",
      "Requirement already satisfied: chardet<4,>=3.0.2 in /Users/siliangliu/opt/miniconda3/lib/python3.8/site-packages (from requests->geocoder->geemap) (3.0.4)\n",
      "Requirement already satisfied: decorator in /Users/siliangliu/opt/miniconda3/lib/python3.8/site-packages (from ratelim->geocoder->geemap) (4.4.2)\n",
      "Requirement already satisfied: pytz>=2017.2 in /Users/siliangliu/opt/miniconda3/lib/python3.8/site-packages (from pandas->bqplot->geemap) (2020.1)\n",
      "Requirement already satisfied: ipython-genutils in /Users/siliangliu/opt/miniconda3/lib/python3.8/site-packages (from traitlets>=4.3.0->bqplot->geemap) (0.2.0)\n",
      "Requirement already satisfied: MarkupSafe>=0.23 in /Users/siliangliu/opt/miniconda3/lib/python3.8/site-packages (from jinja2>=2.9->folium>=0.11.0->geemap) (1.1.1)\n",
      "Requirement already satisfied: defusedxml in /Users/siliangliu/opt/miniconda3/lib/python3.8/site-packages (from nbconvert<6,>=5.5.0->voila->geemap) (0.6.0)\n",
      "Requirement already satisfied: testpath in /Users/siliangliu/opt/miniconda3/lib/python3.8/site-packages (from nbconvert<6,>=5.5.0->voila->geemap) (0.4.4)\n",
      "Requirement already satisfied: pandocfilters>=1.4.1 in /Users/siliangliu/opt/miniconda3/lib/python3.8/site-packages (from nbconvert<6,>=5.5.0->voila->geemap) (1.4.2)\n",
      "Requirement already satisfied: entrypoints>=0.2.2 in /Users/siliangliu/opt/miniconda3/lib/python3.8/site-packages (from nbconvert<6,>=5.5.0->voila->geemap) (0.3)\n",
      "Requirement already satisfied: bleach in /Users/siliangliu/opt/miniconda3/lib/python3.8/site-packages (from nbconvert<6,>=5.5.0->voila->geemap) (3.1.5)\n",
      "Requirement already satisfied: mistune<2,>=0.8.1 in /Users/siliangliu/opt/miniconda3/lib/python3.8/site-packages (from nbconvert<6,>=5.5.0->voila->geemap) (0.8.4)\n",
      "Requirement already satisfied: jupyter-core in /Users/siliangliu/opt/miniconda3/lib/python3.8/site-packages (from nbconvert<6,>=5.5.0->voila->geemap) (4.6.3)\n",
      "Requirement already satisfied: tornado>=4 in /Users/siliangliu/opt/miniconda3/lib/python3.8/site-packages (from jupyter-server<0.2.0,>=0.1.0->voila->geemap) (6.0.4)\n",
      "Requirement already satisfied: Send2Trash in /Users/siliangliu/opt/miniconda3/lib/python3.8/site-packages (from jupyter-server<0.2.0,>=0.1.0->voila->geemap) (1.5.0)\n",
      "Requirement already satisfied: prometheus-client in /Users/siliangliu/opt/miniconda3/lib/python3.8/site-packages (from jupyter-server<0.2.0,>=0.1.0->voila->geemap) (0.8.0)\n",
      "Requirement already satisfied: terminado>=0.8.1 in /Users/siliangliu/opt/miniconda3/lib/python3.8/site-packages (from jupyter-server<0.2.0,>=0.1.0->voila->geemap) (0.8.3)\n",
      "Requirement already satisfied: pyzmq>=17 in /Users/siliangliu/opt/miniconda3/lib/python3.8/site-packages (from jupyter-server<0.2.0,>=0.1.0->voila->geemap) (19.0.2)\n",
      "Requirement already satisfied: jupyter-client>=5.3.1 in /Users/siliangliu/opt/miniconda3/lib/python3.8/site-packages (from jupyter-server<0.2.0,>=0.1.0->voila->geemap) (6.1.7)\n",
      "Requirement already satisfied: soupsieve>1.2 in /Users/siliangliu/opt/miniconda3/lib/python3.8/site-packages (from beautifulsoup4>=4.9.0->geeadd>=0.5.1->geemap) (2.0.1)\n",
      "Requirement already satisfied: protobuf>=3.12.0 in /Users/siliangliu/opt/miniconda3/lib/python3.8/site-packages (from google-api-core<2dev,>=1.18.0->google-api-python-client->earthengine-api>=0.1.230->geemap) (3.13.0)\n",
      "Requirement already satisfied: googleapis-common-protos<2.0dev,>=1.6.0 in /Users/siliangliu/opt/miniconda3/lib/python3.8/site-packages (from google-api-core<2dev,>=1.18.0->google-api-python-client->earthengine-api>=0.1.230->geemap) (1.52.0)\n",
      "Requirement already satisfied: pyasn1<0.5.0,>=0.4.6 in /Users/siliangliu/opt/miniconda3/lib/python3.8/site-packages (from pyasn1-modules>=0.2.1->google-auth>=1.4.1->earthengine-api>=0.1.230->geemap) (0.4.8)\n",
      "Requirement already satisfied: google-crc32c<2.0dev,>=1.0; python_version >= \"3.5\" in /Users/siliangliu/opt/miniconda3/lib/python3.8/site-packages (from google-resumable-media<2.0dev,>=1.0.0->google-cloud-storage->earthengine-api>=0.1.230->geemap) (1.0.0)\n",
      "Requirement already satisfied: backcall in /Users/siliangliu/opt/miniconda3/lib/python3.8/site-packages (from ipython>=4.0.0; python_version >= \"3.3\"->ipywidgets<8,>=7.5.0->ipytree->geemap) (0.2.0)\n",
      "Requirement already satisfied: appnope; sys_platform == \"darwin\" in /Users/siliangliu/opt/miniconda3/lib/python3.8/site-packages (from ipython>=4.0.0; python_version >= \"3.3\"->ipywidgets<8,>=7.5.0->ipytree->geemap) (0.1.0)\n",
      "Requirement already satisfied: pickleshare in /Users/siliangliu/opt/miniconda3/lib/python3.8/site-packages (from ipython>=4.0.0; python_version >= \"3.3\"->ipywidgets<8,>=7.5.0->ipytree->geemap) (0.7.5)\n",
      "Requirement already satisfied: jedi>=0.10 in /Users/siliangliu/opt/miniconda3/lib/python3.8/site-packages (from ipython>=4.0.0; python_version >= \"3.3\"->ipywidgets<8,>=7.5.0->ipytree->geemap) (0.17.2)\n",
      "Requirement already satisfied: prompt-toolkit!=3.0.0,!=3.0.1,<3.1.0,>=2.0.0 in /Users/siliangliu/opt/miniconda3/lib/python3.8/site-packages (from ipython>=4.0.0; python_version >= \"3.3\"->ipywidgets<8,>=7.5.0->ipytree->geemap) (3.0.7)\n",
      "Requirement already satisfied: pexpect>4.3; sys_platform != \"win32\" in /Users/siliangliu/opt/miniconda3/lib/python3.8/site-packages (from ipython>=4.0.0; python_version >= \"3.3\"->ipywidgets<8,>=7.5.0->ipytree->geemap) (4.8.0)\n",
      "Requirement already satisfied: notebook>=4.4.1 in /Users/siliangliu/opt/miniconda3/lib/python3.8/site-packages (from widgetsnbextension~=3.5.0->ipywidgets<8,>=7.5.0->ipytree->geemap) (6.1.3)\n",
      "Requirement already satisfied: jsonschema!=2.5.0,>=2.4 in /Users/siliangliu/opt/miniconda3/lib/python3.8/site-packages (from nbformat>=4.2.0->ipywidgets<8,>=7.5.0->ipytree->geemap) (3.2.0)\n",
      "Requirement already satisfied: packaging in /Users/siliangliu/opt/miniconda3/lib/python3.8/site-packages (from bleach->nbconvert<6,>=5.5.0->voila->geemap) (20.4)\n",
      "Requirement already satisfied: webencodings in /Users/siliangliu/opt/miniconda3/lib/python3.8/site-packages (from bleach->nbconvert<6,>=5.5.0->voila->geemap) (0.5.1)\n",
      "Requirement already satisfied: parso<0.8.0,>=0.7.0 in /Users/siliangliu/opt/miniconda3/lib/python3.8/site-packages (from jedi>=0.10->ipython>=4.0.0; python_version >= \"3.3\"->ipywidgets<8,>=7.5.0->ipytree->geemap) (0.7.1)\n",
      "Requirement already satisfied: wcwidth in /Users/siliangliu/opt/miniconda3/lib/python3.8/site-packages (from prompt-toolkit!=3.0.0,!=3.0.1,<3.1.0,>=2.0.0->ipython>=4.0.0; python_version >= \"3.3\"->ipywidgets<8,>=7.5.0->ipytree->geemap) (0.2.5)\n",
      "Requirement already satisfied: ptyprocess>=0.5 in /Users/siliangliu/opt/miniconda3/lib/python3.8/site-packages (from pexpect>4.3; sys_platform != \"win32\"->ipython>=4.0.0; python_version >= \"3.3\"->ipywidgets<8,>=7.5.0->ipytree->geemap) (0.6.0)\n",
      "Requirement already satisfied: argon2-cffi in /Users/siliangliu/opt/miniconda3/lib/python3.8/site-packages (from notebook>=4.4.1->widgetsnbextension~=3.5.0->ipywidgets<8,>=7.5.0->ipytree->geemap) (20.1.0)\n",
      "Requirement already satisfied: attrs>=17.4.0 in /Users/siliangliu/opt/miniconda3/lib/python3.8/site-packages (from jsonschema!=2.5.0,>=2.4->nbformat>=4.2.0->ipywidgets<8,>=7.5.0->ipytree->geemap) (20.1.0)\n",
      "Requirement already satisfied: pyrsistent>=0.14.0 in /Users/siliangliu/opt/miniconda3/lib/python3.8/site-packages (from jsonschema!=2.5.0,>=2.4->nbformat>=4.2.0->ipywidgets<8,>=7.5.0->ipytree->geemap) (0.16.0)\n",
      "Requirement already satisfied: cffi>=1.0.0 in /Users/siliangliu/opt/miniconda3/lib/python3.8/site-packages (from argon2-cffi->notebook>=4.4.1->widgetsnbextension~=3.5.0->ipywidgets<8,>=7.5.0->ipytree->geemap) (1.14.2)\n",
      "Requirement already satisfied: pycparser in /Users/siliangliu/opt/miniconda3/lib/python3.8/site-packages (from cffi>=1.0.0->argon2-cffi->notebook>=4.4.1->widgetsnbextension~=3.5.0->ipywidgets<8,>=7.5.0->ipytree->geemap) (2.20)\n"
     ]
    }
   ],
   "source": [
    "!pip install ee\n",
    "!pip install geemap"
   ]
  },
  {
   "cell_type": "code",
   "execution_count": 3,
   "metadata": {},
   "outputs": [],
   "source": [
    "import ee\n",
    "import geemap"
   ]
  },
  {
   "cell_type": "code",
   "execution_count": 11,
   "metadata": {},
   "outputs": [
    {
     "data": {
      "text/html": [
       "<img src=\"https://earthengine.googleapis.com/v1alpha/projects/earthengine-legacy/thumbnails/23df16523a2b4f616fb91821ae5fac54-c691c79c11bb520768895f214f26a975:getPixels\"/>"
      ],
      "text/plain": [
       "<IPython.core.display.Image object>"
      ]
     },
     "execution_count": 11,
     "metadata": {},
     "output_type": "execute_result"
    }
   ],
   "source": [
    "# Import libraries.\n",
    "\n",
    "from IPython.display import Image\n",
    "\n",
    "# Trigger the authentication flow.\n",
    "ee.Authenticate()\n",
    "\n",
    "# Initialize the library.\n",
    "ee.Initialize()\n",
    "\n",
    "# Import a DEM and display a thumbnail of it.\n",
    "dem = ee.Image('USGS/SRTMGL1_003')\n",
    "Image(url=dem.updateMask(dem.gt(0))\n",
    "  .getThumbUrl({'min': 0, 'max': 4000, 'dimensions': 512,\n",
    "                'palette': ['006633', 'E5FFCC', '662A00', 'D8D8D8', 'F5F5F5']}))"
   ]
  },
  {
   "cell_type": "code",
   "execution_count": null,
   "metadata": {},
   "outputs": [],
   "source": []
  }
 ],
 "metadata": {
  "kernelspec": {
   "display_name": "Python 3",
   "language": "python",
   "name": "python3"
  },
  "language_info": {
   "codemirror_mode": {
    "name": "ipython",
    "version": 3
   },
   "file_extension": ".py",
   "mimetype": "text/x-python",
   "name": "python",
   "nbconvert_exporter": "python",
   "pygments_lexer": "ipython3",
   "version": "3.8.3"
  }
 },
 "nbformat": 4,
 "nbformat_minor": 4
}
