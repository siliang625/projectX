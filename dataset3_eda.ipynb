{
  "nbformat": 4,
  "nbformat_minor": 0,
  "metadata": {
    "colab": {
      "name": "dataset3_eda.ipynb",
      "provenance": [],
      "authorship_tag": "ABX9TyOHh9JMK03vqkXqgIVGiPV7",
      "include_colab_link": true
    },
    "kernelspec": {
      "name": "python3",
      "display_name": "Python 3"
    }
  },
  "cells": [
    {
      "cell_type": "markdown",
      "metadata": {
        "id": "view-in-github",
        "colab_type": "text"
      },
      "source": [
        "<a href=\"https://colab.research.google.com/github/siliang625/projectX/blob/master/dataset3_eda.ipynb\" target=\"_parent\"><img src=\"https://colab.research.google.com/assets/colab-badge.svg\" alt=\"Open In Colab\"/></a>"
      ]
    },
    {
      "cell_type": "code",
      "metadata": {
        "id": "gFXLsvTxlOp-",
        "colab_type": "code",
        "colab": {
          "base_uri": "https://localhost:8080/",
          "height": 102
        },
        "outputId": "f562d5e9-0dbc-4fb8-c00e-347984d685cd"
      },
      "source": [
        "!pip install pandas"
      ],
      "execution_count": 1,
      "outputs": [
        {
          "output_type": "stream",
          "text": [
            "Requirement already satisfied: pandas in /usr/local/lib/python3.6/dist-packages (1.0.5)\n",
            "Requirement already satisfied: numpy>=1.13.3 in /usr/local/lib/python3.6/dist-packages (from pandas) (1.18.5)\n",
            "Requirement already satisfied: pytz>=2017.2 in /usr/local/lib/python3.6/dist-packages (from pandas) (2018.9)\n",
            "Requirement already satisfied: python-dateutil>=2.6.1 in /usr/local/lib/python3.6/dist-packages (from pandas) (2.8.1)\n",
            "Requirement already satisfied: six>=1.5 in /usr/local/lib/python3.6/dist-packages (from python-dateutil>=2.6.1->pandas) (1.15.0)\n"
          ],
          "name": "stdout"
        }
      ]
    },
    {
      "cell_type": "code",
      "metadata": {
        "id": "V5p4-fs_lSpX",
        "colab_type": "code",
        "colab": {}
      },
      "source": [
        "import pandas as pd"
      ],
      "execution_count": 4,
      "outputs": []
    },
    {
      "cell_type": "code",
      "metadata": {
        "id": "xtqccr4CljQ8",
        "colab_type": "code",
        "colab": {
          "base_uri": "https://localhost:8080/",
          "height": 34
        },
        "outputId": "97aee06a-b52a-4f9b-d062-96a63cbfb359"
      },
      "source": [
        "!ls"
      ],
      "execution_count": 25,
      "outputs": [
        {
          "output_type": "stream",
          "text": [
            "hail  sample_data  tornado  wind\n"
          ],
          "name": "stdout"
        }
      ]
    },
    {
      "cell_type": "code",
      "metadata": {
        "id": "G8ZFz-gwlvdJ",
        "colab_type": "code",
        "colab": {}
      },
      "source": [
        "df_tornado = pd.read_csv(\"tornado\")"
      ],
      "execution_count": 6,
      "outputs": []
    },
    {
      "cell_type": "code",
      "metadata": {
        "id": "05_3oEvzlyWm",
        "colab_type": "code",
        "colab": {
          "base_uri": "https://localhost:8080/",
          "height": 529
        },
        "outputId": "559551ac-f4d2-4e96-9615-1b64f8968e0e"
      },
      "source": [
        "df_tornado.head(10)"
      ],
      "execution_count": 7,
      "outputs": [
        {
          "output_type": "execute_result",
          "data": {
            "text/html": [
              "<div>\n",
              "<style scoped>\n",
              "    .dataframe tbody tr th:only-of-type {\n",
              "        vertical-align: middle;\n",
              "    }\n",
              "\n",
              "    .dataframe tbody tr th {\n",
              "        vertical-align: top;\n",
              "    }\n",
              "\n",
              "    .dataframe thead th {\n",
              "        text-align: right;\n",
              "    }\n",
              "</style>\n",
              "<table border=\"1\" class=\"dataframe\">\n",
              "  <thead>\n",
              "    <tr style=\"text-align: right;\">\n",
              "      <th></th>\n",
              "      <th>timestamp</th>\n",
              "      <th>time</th>\n",
              "      <th>f_scale</th>\n",
              "      <th>location</th>\n",
              "      <th>county</th>\n",
              "      <th>state</th>\n",
              "      <th>latitude</th>\n",
              "      <th>longitude</th>\n",
              "      <th>comments</th>\n",
              "      <th>report_point</th>\n",
              "    </tr>\n",
              "  </thead>\n",
              "  <tbody>\n",
              "    <tr>\n",
              "      <th>0</th>\n",
              "      <td>2019-01-04 10:40:00 UTC</td>\n",
              "      <td>1040</td>\n",
              "      <td>UNK</td>\n",
              "      <td>2 N GRABALL</td>\n",
              "      <td>HENRY</td>\n",
              "      <td>AL</td>\n",
              "      <td>31.62</td>\n",
              "      <td>-85.28</td>\n",
              "      <td>TREE DAMAGE FROM A BRIEF TORNADO ABOUT 1.5 MI ...</td>\n",
              "      <td>POINT(-85.28 31.62)</td>\n",
              "    </tr>\n",
              "    <tr>\n",
              "      <th>1</th>\n",
              "      <td>2019-01-19 20:04:00 UTC</td>\n",
              "      <td>2004</td>\n",
              "      <td>UNK</td>\n",
              "      <td>3 ENE MULBERRY</td>\n",
              "      <td>AUTAUGA</td>\n",
              "      <td>AL</td>\n",
              "      <td>32.49</td>\n",
              "      <td>-86.73</td>\n",
              "      <td>*** 2 INJ *** CORRECTS PREVIOUS TORNADO REPORT...</td>\n",
              "      <td>POINT(-86.73 32.49)</td>\n",
              "    </tr>\n",
              "    <tr>\n",
              "      <th>2</th>\n",
              "      <td>2019-01-19 20:52:00 UTC</td>\n",
              "      <td>2052</td>\n",
              "      <td>UNK</td>\n",
              "      <td>3 SW WETUMPKA</td>\n",
              "      <td>ELMORE</td>\n",
              "      <td>AL</td>\n",
              "      <td>32.52</td>\n",
              "      <td>-86.24</td>\n",
              "      <td>*** 4 INJ *** A NWS STORM SURVEY TEAM CONFIRME...</td>\n",
              "      <td>POINT(-86.24 32.52)</td>\n",
              "    </tr>\n",
              "    <tr>\n",
              "      <th>3</th>\n",
              "      <td>2019-01-19 20:58:00 UTC</td>\n",
              "      <td>2058</td>\n",
              "      <td>UNK</td>\n",
              "      <td>2 W COTTAGE GROVE</td>\n",
              "      <td>COOSA</td>\n",
              "      <td>AL</td>\n",
              "      <td>32.85</td>\n",
              "      <td>-86.15</td>\n",
              "      <td>A NWS STORM SURVEY TEAM CONFIRMED A TORNADO OF...</td>\n",
              "      <td>POINT(-86.15 32.85)</td>\n",
              "    </tr>\n",
              "    <tr>\n",
              "      <th>4</th>\n",
              "      <td>2019-02-23 23:44:00 UTC</td>\n",
              "      <td>2344</td>\n",
              "      <td>UNK</td>\n",
              "      <td>3 WSW GAINESVILLE LAKE</td>\n",
              "      <td>PICKENS</td>\n",
              "      <td>AL</td>\n",
              "      <td>33.06</td>\n",
              "      <td>-88.31</td>\n",
              "      <td>CORRECTS PREVIOUS TORNADO REPORT FROM 3 WSW GA...</td>\n",
              "      <td>POINT(-88.31 33.06)</td>\n",
              "    </tr>\n",
              "    <tr>\n",
              "      <th>5</th>\n",
              "      <td>2019-02-23 23:52:00 UTC</td>\n",
              "      <td>2352</td>\n",
              "      <td>UNK</td>\n",
              "      <td>3 SSE HIGHTOGY</td>\n",
              "      <td>LAMAR</td>\n",
              "      <td>AL</td>\n",
              "      <td>33.66</td>\n",
              "      <td>-88.06</td>\n",
              "      <td>THE TORNADO TOUCHED DOWN JUST SOUTH OF CRAWFOR...</td>\n",
              "      <td>POINT(-88.06 33.66)</td>\n",
              "    </tr>\n",
              "    <tr>\n",
              "      <th>6</th>\n",
              "      <td>2019-02-23 23:54:00 UTC</td>\n",
              "      <td>2354</td>\n",
              "      <td>UNK</td>\n",
              "      <td>2 NNW CODY</td>\n",
              "      <td>LAMAR</td>\n",
              "      <td>AL</td>\n",
              "      <td>33.70</td>\n",
              "      <td>-87.98</td>\n",
              "      <td>REPORT OF TREES DOWN ALONG CODY RD. NEAR KINGV...</td>\n",
              "      <td>POINT(-87.98 33.7)</td>\n",
              "    </tr>\n",
              "    <tr>\n",
              "      <th>7</th>\n",
              "      <td>2019-02-24 00:38:00 UTC</td>\n",
              "      <td>38</td>\n",
              "      <td>UNK</td>\n",
              "      <td>2 NNW FOWLER'S CROSSROA</td>\n",
              "      <td>FAYETTE</td>\n",
              "      <td>AL</td>\n",
              "      <td>33.83</td>\n",
              "      <td>-87.68</td>\n",
              "      <td>AN EF-0 TORNADO TOUCHED DOWN IN A WOODED AREA ...</td>\n",
              "      <td>POINT(-87.68 33.83)</td>\n",
              "    </tr>\n",
              "    <tr>\n",
              "      <th>8</th>\n",
              "      <td>2019-02-24 07:54:00 UTC</td>\n",
              "      <td>754</td>\n",
              "      <td>UNK</td>\n",
              "      <td>3 SE ROCKFORD</td>\n",
              "      <td>COOSA</td>\n",
              "      <td>AL</td>\n",
              "      <td>32.86</td>\n",
              "      <td>-86.18</td>\n",
              "      <td>THE TORNADO TOUCHED DOWN JUST EAST OF CR 40 AN...</td>\n",
              "      <td>POINT(-86.18 32.86)</td>\n",
              "    </tr>\n",
              "    <tr>\n",
              "      <th>9</th>\n",
              "      <td>2019-03-03 19:19:00 UTC</td>\n",
              "      <td>1919</td>\n",
              "      <td>UNK</td>\n",
              "      <td>2 ENE MULBERRY</td>\n",
              "      <td>AUTAUGA</td>\n",
              "      <td>AL</td>\n",
              "      <td>32.47</td>\n",
              "      <td>-86.75</td>\n",
              "      <td>A TORNADO TOUCHED 6 MILES NORTHWEST OF AUTAUGA...</td>\n",
              "      <td>POINT(-86.75 32.47)</td>\n",
              "    </tr>\n",
              "  </tbody>\n",
              "</table>\n",
              "</div>"
            ],
            "text/plain": [
              "                 timestamp  ...         report_point\n",
              "0  2019-01-04 10:40:00 UTC  ...  POINT(-85.28 31.62)\n",
              "1  2019-01-19 20:04:00 UTC  ...  POINT(-86.73 32.49)\n",
              "2  2019-01-19 20:52:00 UTC  ...  POINT(-86.24 32.52)\n",
              "3  2019-01-19 20:58:00 UTC  ...  POINT(-86.15 32.85)\n",
              "4  2019-02-23 23:44:00 UTC  ...  POINT(-88.31 33.06)\n",
              "5  2019-02-23 23:52:00 UTC  ...  POINT(-88.06 33.66)\n",
              "6  2019-02-23 23:54:00 UTC  ...   POINT(-87.98 33.7)\n",
              "7  2019-02-24 00:38:00 UTC  ...  POINT(-87.68 33.83)\n",
              "8  2019-02-24 07:54:00 UTC  ...  POINT(-86.18 32.86)\n",
              "9  2019-03-03 19:19:00 UTC  ...  POINT(-86.75 32.47)\n",
              "\n",
              "[10 rows x 10 columns]"
            ]
          },
          "metadata": {
            "tags": []
          },
          "execution_count": 7
        }
      ]
    },
    {
      "cell_type": "code",
      "metadata": {
        "id": "00fCL7eQlzaC",
        "colab_type": "code",
        "colab": {
          "base_uri": "https://localhost:8080/",
          "height": 34
        },
        "outputId": "614e30c5-c14e-4521-905b-85c2e4cd9897"
      },
      "source": [
        "df_tornado.shape"
      ],
      "execution_count": 8,
      "outputs": [
        {
          "output_type": "execute_result",
          "data": {
            "text/plain": [
              "(1677, 10)"
            ]
          },
          "metadata": {
            "tags": []
          },
          "execution_count": 8
        }
      ]
    },
    {
      "cell_type": "code",
      "metadata": {
        "id": "eEBO6-mGmDQk",
        "colab_type": "code",
        "colab": {
          "base_uri": "https://localhost:8080/",
          "height": 68
        },
        "outputId": "f58007f6-b91e-4997-908f-800163ee1de7"
      },
      "source": [
        "df_tornado.columns"
      ],
      "execution_count": 12,
      "outputs": [
        {
          "output_type": "execute_result",
          "data": {
            "text/plain": [
              "Index(['timestamp', 'time', 'f_scale', 'location', 'county', 'state',\n",
              "       'latitude', 'longitude', 'comments', 'report_point'],\n",
              "      dtype='object')"
            ]
          },
          "metadata": {
            "tags": []
          },
          "execution_count": 12
        }
      ]
    },
    {
      "cell_type": "code",
      "metadata": {
        "id": "RIAw9gfrl5Jl",
        "colab_type": "code",
        "colab": {
          "base_uri": "https://localhost:8080/",
          "height": 204
        },
        "outputId": "0212109f-6d70-473b-ec4e-792b4f41e618"
      },
      "source": [
        "df_tornado.dtypes"
      ],
      "execution_count": 10,
      "outputs": [
        {
          "output_type": "execute_result",
          "data": {
            "text/plain": [
              "timestamp        object\n",
              "time              int64\n",
              "f_scale          object\n",
              "location         object\n",
              "county           object\n",
              "state            object\n",
              "latitude        float64\n",
              "longitude       float64\n",
              "comments         object\n",
              "report_point     object\n",
              "dtype: object"
            ]
          },
          "metadata": {
            "tags": []
          },
          "execution_count": 10
        }
      ]
    },
    {
      "cell_type": "code",
      "metadata": {
        "id": "T5rUFMizl7JK",
        "colab_type": "code",
        "colab": {
          "base_uri": "https://localhost:8080/",
          "height": 297
        },
        "outputId": "0eb06db5-81c8-4289-ca23-6aa069758786"
      },
      "source": [
        "df_tornado.describe()"
      ],
      "execution_count": 11,
      "outputs": [
        {
          "output_type": "execute_result",
          "data": {
            "text/html": [
              "<div>\n",
              "<style scoped>\n",
              "    .dataframe tbody tr th:only-of-type {\n",
              "        vertical-align: middle;\n",
              "    }\n",
              "\n",
              "    .dataframe tbody tr th {\n",
              "        vertical-align: top;\n",
              "    }\n",
              "\n",
              "    .dataframe thead th {\n",
              "        text-align: right;\n",
              "    }\n",
              "</style>\n",
              "<table border=\"1\" class=\"dataframe\">\n",
              "  <thead>\n",
              "    <tr style=\"text-align: right;\">\n",
              "      <th></th>\n",
              "      <th>time</th>\n",
              "      <th>latitude</th>\n",
              "      <th>longitude</th>\n",
              "    </tr>\n",
              "  </thead>\n",
              "  <tbody>\n",
              "    <tr>\n",
              "      <th>count</th>\n",
              "      <td>1677.000000</td>\n",
              "      <td>1677.00000</td>\n",
              "      <td>1677.000000</td>\n",
              "    </tr>\n",
              "    <tr>\n",
              "      <th>mean</th>\n",
              "      <td>1362.385808</td>\n",
              "      <td>36.74675</td>\n",
              "      <td>-92.475713</td>\n",
              "    </tr>\n",
              "    <tr>\n",
              "      <th>std</th>\n",
              "      <td>886.795749</td>\n",
              "      <td>4.33788</td>\n",
              "      <td>8.448823</td>\n",
              "    </tr>\n",
              "    <tr>\n",
              "      <th>min</th>\n",
              "      <td>0.000000</td>\n",
              "      <td>24.67000</td>\n",
              "      <td>-122.930000</td>\n",
              "    </tr>\n",
              "    <tr>\n",
              "      <th>25%</th>\n",
              "      <td>342.000000</td>\n",
              "      <td>32.87000</td>\n",
              "      <td>-98.030000</td>\n",
              "    </tr>\n",
              "    <tr>\n",
              "      <th>50%</th>\n",
              "      <td>1808.000000</td>\n",
              "      <td>36.44000</td>\n",
              "      <td>-92.440000</td>\n",
              "    </tr>\n",
              "    <tr>\n",
              "      <th>75%</th>\n",
              "      <td>2149.000000</td>\n",
              "      <td>39.94000</td>\n",
              "      <td>-86.840000</td>\n",
              "    </tr>\n",
              "    <tr>\n",
              "      <th>max</th>\n",
              "      <td>2358.000000</td>\n",
              "      <td>48.56000</td>\n",
              "      <td>-67.960000</td>\n",
              "    </tr>\n",
              "  </tbody>\n",
              "</table>\n",
              "</div>"
            ],
            "text/plain": [
              "              time    latitude    longitude\n",
              "count  1677.000000  1677.00000  1677.000000\n",
              "mean   1362.385808    36.74675   -92.475713\n",
              "std     886.795749     4.33788     8.448823\n",
              "min       0.000000    24.67000  -122.930000\n",
              "25%     342.000000    32.87000   -98.030000\n",
              "50%    1808.000000    36.44000   -92.440000\n",
              "75%    2149.000000    39.94000   -86.840000\n",
              "max    2358.000000    48.56000   -67.960000"
            ]
          },
          "metadata": {
            "tags": []
          },
          "execution_count": 11
        }
      ]
    },
    {
      "cell_type": "code",
      "metadata": {
        "id": "C9QfJCW2l_Qx",
        "colab_type": "code",
        "colab": {}
      },
      "source": [
        "df_hail = pd.read_csv(\"hail\")\n",
        "df_wind = pd.read_csv(\"wind\")"
      ],
      "execution_count": 13,
      "outputs": []
    },
    {
      "cell_type": "code",
      "metadata": {
        "id": "uwur-eiuqJRo",
        "colab_type": "code",
        "colab": {
          "base_uri": "https://localhost:8080/",
          "height": 529
        },
        "outputId": "c0549238-1f6f-40c0-c17a-eec5b4c45bf8"
      },
      "source": [
        "df_hail.head(10)"
      ],
      "execution_count": 14,
      "outputs": [
        {
          "output_type": "execute_result",
          "data": {
            "text/html": [
              "<div>\n",
              "<style scoped>\n",
              "    .dataframe tbody tr th:only-of-type {\n",
              "        vertical-align: middle;\n",
              "    }\n",
              "\n",
              "    .dataframe tbody tr th {\n",
              "        vertical-align: top;\n",
              "    }\n",
              "\n",
              "    .dataframe thead th {\n",
              "        text-align: right;\n",
              "    }\n",
              "</style>\n",
              "<table border=\"1\" class=\"dataframe\">\n",
              "  <thead>\n",
              "    <tr style=\"text-align: right;\">\n",
              "      <th></th>\n",
              "      <th>timestamp</th>\n",
              "      <th>time</th>\n",
              "      <th>size</th>\n",
              "      <th>location</th>\n",
              "      <th>county</th>\n",
              "      <th>state</th>\n",
              "      <th>latitude</th>\n",
              "      <th>longitude</th>\n",
              "      <th>comments</th>\n",
              "      <th>report_point</th>\n",
              "    </tr>\n",
              "  </thead>\n",
              "  <tbody>\n",
              "    <tr>\n",
              "      <th>0</th>\n",
              "      <td>2019-06-26 01:03:00 UTC</td>\n",
              "      <td>103</td>\n",
              "      <td>100</td>\n",
              "      <td>1 HAMILTON</td>\n",
              "      <td>HANCOCK</td>\n",
              "      <td>NaN</td>\n",
              "      <td>0.00</td>\n",
              "      <td>-40.40</td>\n",
              "      <td>9134</td>\n",
              "      <td>POINT(-40.4 0)</td>\n",
              "    </tr>\n",
              "    <tr>\n",
              "      <th>1</th>\n",
              "      <td>2019-08-10 23:54:00 UTC</td>\n",
              "      <td>2354</td>\n",
              "      <td>175</td>\n",
              "      <td>235 MEADOW VIEW DR</td>\n",
              "      <td>SILVER BOW</td>\n",
              "      <td>NaN</td>\n",
              "      <td>0.00</td>\n",
              "      <td>-5.91</td>\n",
              "      <td>246 REPORTED AT 235 MEADOW VIEW DR... BUTTE MT...</td>\n",
              "      <td>POINT(-5.91 0)</td>\n",
              "    </tr>\n",
              "    <tr>\n",
              "      <th>2</th>\n",
              "      <td>2019-03-25 21:21:00 UTC</td>\n",
              "      <td>2121</td>\n",
              "      <td>125</td>\n",
              "      <td>3 WNW SAWYERVILLE</td>\n",
              "      <td>HALE</td>\n",
              "      <td>AL</td>\n",
              "      <td>32.77</td>\n",
              "      <td>-87.77</td>\n",
              "      <td>LOTS OF HAIL FELL. NOT QUITE THE SIZE OF A GOL...</td>\n",
              "      <td>POINT(-87.77 32.77)</td>\n",
              "    </tr>\n",
              "    <tr>\n",
              "      <th>3</th>\n",
              "      <td>2019-03-25 21:55:00 UTC</td>\n",
              "      <td>2155</td>\n",
              "      <td>100</td>\n",
              "      <td>5 N GREENSBORO</td>\n",
              "      <td>HALE</td>\n",
              "      <td>AL</td>\n",
              "      <td>32.77</td>\n",
              "      <td>-87.59</td>\n",
              "      <td>QUARTER SIZE HAIL... MAY HAVE BEEN LARGER. SEV...</td>\n",
              "      <td>POINT(-87.59 32.77)</td>\n",
              "    </tr>\n",
              "    <tr>\n",
              "      <th>4</th>\n",
              "      <td>2019-03-14 19:47:00 UTC</td>\n",
              "      <td>1947</td>\n",
              "      <td>150</td>\n",
              "      <td>2 SSW HIGHTOGY</td>\n",
              "      <td>LAMAR</td>\n",
              "      <td>AL</td>\n",
              "      <td>33.66</td>\n",
              "      <td>-88.11</td>\n",
              "      <td>(BMX)</td>\n",
              "      <td>POINT(-88.11 33.66)</td>\n",
              "    </tr>\n",
              "    <tr>\n",
              "      <th>5</th>\n",
              "      <td>2019-05-16 21:12:00 UTC</td>\n",
              "      <td>2112</td>\n",
              "      <td>100</td>\n",
              "      <td>HAYDEN</td>\n",
              "      <td>BLOUNT</td>\n",
              "      <td>AL</td>\n",
              "      <td>33.89</td>\n",
              "      <td>-86.75</td>\n",
              "      <td>SEVERAL REPORTS OF DIME TO QUARTER SIZE HAIL I...</td>\n",
              "      <td>POINT(-86.75 33.89)</td>\n",
              "    </tr>\n",
              "    <tr>\n",
              "      <th>6</th>\n",
              "      <td>2019-03-26 00:50:00 UTC</td>\n",
              "      <td>50</td>\n",
              "      <td>100</td>\n",
              "      <td>2 WSW GROVE HILL</td>\n",
              "      <td>CLARKE</td>\n",
              "      <td>AL</td>\n",
              "      <td>31.70</td>\n",
              "      <td>-87.80</td>\n",
              "      <td>TRAINED SPOTTER REPORTS QUARTER SIZED HAIL. RE...</td>\n",
              "      <td>POINT(-87.8 31.7)</td>\n",
              "    </tr>\n",
              "    <tr>\n",
              "      <th>7</th>\n",
              "      <td>2019-03-15 03:15:00 UTC</td>\n",
              "      <td>315</td>\n",
              "      <td>100</td>\n",
              "      <td>2 NE COLLINSVILLE</td>\n",
              "      <td>DEKALB</td>\n",
              "      <td>AL</td>\n",
              "      <td>34.29</td>\n",
              "      <td>-85.84</td>\n",
              "      <td>QUARTER SIZE HAIL WAS REPORTED IN THE COLLINSV...</td>\n",
              "      <td>POINT(-85.84 34.29)</td>\n",
              "    </tr>\n",
              "    <tr>\n",
              "      <th>8</th>\n",
              "      <td>2019-03-25 22:36:00 UTC</td>\n",
              "      <td>2236</td>\n",
              "      <td>100</td>\n",
              "      <td>1 NW TITUS</td>\n",
              "      <td>ELMORE</td>\n",
              "      <td>AL</td>\n",
              "      <td>32.73</td>\n",
              "      <td>-86.33</td>\n",
              "      <td>QUARTER-SIZED HAIL MEASURED IN THE TITUS AREA....</td>\n",
              "      <td>POINT(-86.33 32.73)</td>\n",
              "    </tr>\n",
              "    <tr>\n",
              "      <th>9</th>\n",
              "      <td>2019-05-01 21:46:00 UTC</td>\n",
              "      <td>2146</td>\n",
              "      <td>100</td>\n",
              "      <td>2 NW BLUE RIDGE</td>\n",
              "      <td>ELMORE</td>\n",
              "      <td>AL</td>\n",
              "      <td>32.51</td>\n",
              "      <td>-86.21</td>\n",
              "      <td>QUARTER SIZE HAIL NEAR WALMART ON HIGHWAY 231....</td>\n",
              "      <td>POINT(-86.21 32.51)</td>\n",
              "    </tr>\n",
              "  </tbody>\n",
              "</table>\n",
              "</div>"
            ],
            "text/plain": [
              "                 timestamp  ...         report_point\n",
              "0  2019-06-26 01:03:00 UTC  ...       POINT(-40.4 0)\n",
              "1  2019-08-10 23:54:00 UTC  ...       POINT(-5.91 0)\n",
              "2  2019-03-25 21:21:00 UTC  ...  POINT(-87.77 32.77)\n",
              "3  2019-03-25 21:55:00 UTC  ...  POINT(-87.59 32.77)\n",
              "4  2019-03-14 19:47:00 UTC  ...  POINT(-88.11 33.66)\n",
              "5  2019-05-16 21:12:00 UTC  ...  POINT(-86.75 33.89)\n",
              "6  2019-03-26 00:50:00 UTC  ...    POINT(-87.8 31.7)\n",
              "7  2019-03-15 03:15:00 UTC  ...  POINT(-85.84 34.29)\n",
              "8  2019-03-25 22:36:00 UTC  ...  POINT(-86.33 32.73)\n",
              "9  2019-05-01 21:46:00 UTC  ...  POINT(-86.21 32.51)\n",
              "\n",
              "[10 rows x 10 columns]"
            ]
          },
          "metadata": {
            "tags": []
          },
          "execution_count": 14
        }
      ]
    },
    {
      "cell_type": "code",
      "metadata": {
        "id": "JwCdnX0hqV-A",
        "colab_type": "code",
        "colab": {
          "base_uri": "https://localhost:8080/",
          "height": 68
        },
        "outputId": "a2b70c2e-e278-4801-c8dc-77148d6ce699"
      },
      "source": [
        "df_hail.columns"
      ],
      "execution_count": 17,
      "outputs": [
        {
          "output_type": "execute_result",
          "data": {
            "text/plain": [
              "Index(['timestamp', 'time', 'size', 'location', 'county', 'state', 'latitude',\n",
              "       'longitude', 'comments', 'report_point'],\n",
              "      dtype='object')"
            ]
          },
          "metadata": {
            "tags": []
          },
          "execution_count": 17
        }
      ]
    },
    {
      "cell_type": "code",
      "metadata": {
        "id": "B0C0Z4V9qVk5",
        "colab_type": "code",
        "colab": {
          "base_uri": "https://localhost:8080/",
          "height": 34
        },
        "outputId": "d98853e9-a616-41d1-bdc6-0cd9c14048ef"
      },
      "source": [
        "df_hail.shape"
      ],
      "execution_count": 21,
      "outputs": [
        {
          "output_type": "execute_result",
          "data": {
            "text/plain": [
              "(5397, 10)"
            ]
          },
          "metadata": {
            "tags": []
          },
          "execution_count": 21
        }
      ]
    },
    {
      "cell_type": "code",
      "metadata": {
        "id": "PLO9dgQdqUOF",
        "colab_type": "code",
        "colab": {}
      },
      "source": [
        ""
      ],
      "execution_count": null,
      "outputs": []
    },
    {
      "cell_type": "code",
      "metadata": {
        "id": "tHKjiJDxqKaO",
        "colab_type": "code",
        "colab": {
          "base_uri": "https://localhost:8080/",
          "height": 529
        },
        "outputId": "86a16c6a-4a11-4bab-bfbf-4c6fbe8f841c"
      },
      "source": [
        "df_wind.head(10)"
      ],
      "execution_count": 15,
      "outputs": [
        {
          "output_type": "execute_result",
          "data": {
            "text/html": [
              "<div>\n",
              "<style scoped>\n",
              "    .dataframe tbody tr th:only-of-type {\n",
              "        vertical-align: middle;\n",
              "    }\n",
              "\n",
              "    .dataframe tbody tr th {\n",
              "        vertical-align: top;\n",
              "    }\n",
              "\n",
              "    .dataframe thead th {\n",
              "        text-align: right;\n",
              "    }\n",
              "</style>\n",
              "<table border=\"1\" class=\"dataframe\">\n",
              "  <thead>\n",
              "    <tr style=\"text-align: right;\">\n",
              "      <th></th>\n",
              "      <th>timestamp</th>\n",
              "      <th>time</th>\n",
              "      <th>speed</th>\n",
              "      <th>location</th>\n",
              "      <th>county</th>\n",
              "      <th>state</th>\n",
              "      <th>latitude</th>\n",
              "      <th>longitude</th>\n",
              "      <th>comments</th>\n",
              "      <th>report_point</th>\n",
              "    </tr>\n",
              "  </thead>\n",
              "  <tbody>\n",
              "    <tr>\n",
              "      <th>0</th>\n",
              "      <td>2019-01-19 22:54:00 UTC</td>\n",
              "      <td>2254</td>\n",
              "      <td>NaN</td>\n",
              "      <td>2 N CRAWFORD</td>\n",
              "      <td>LEE</td>\n",
              "      <td>AL</td>\n",
              "      <td>32.49</td>\n",
              "      <td>-85.18</td>\n",
              "      <td>TREES DOWN NEAR THE INTERSECTION OF LEE RD 440...</td>\n",
              "      <td>POINT(-85.18 32.49)</td>\n",
              "    </tr>\n",
              "    <tr>\n",
              "      <th>1</th>\n",
              "      <td>2019-02-12 18:11:00 UTC</td>\n",
              "      <td>1811</td>\n",
              "      <td>NaN</td>\n",
              "      <td>3 SW MONTEREY HEIGHTS</td>\n",
              "      <td>LEE</td>\n",
              "      <td>AL</td>\n",
              "      <td>32.49</td>\n",
              "      <td>-85.13</td>\n",
              "      <td>REPORTS OF TREES DOWN IN VARIOUS LOCATIONS IN ...</td>\n",
              "      <td>POINT(-85.13 32.49)</td>\n",
              "    </tr>\n",
              "    <tr>\n",
              "      <th>2</th>\n",
              "      <td>2019-03-03 20:22:00 UTC</td>\n",
              "      <td>2022</td>\n",
              "      <td>NaN</td>\n",
              "      <td>SMITH'S STATION</td>\n",
              "      <td>LEE</td>\n",
              "      <td>AL</td>\n",
              "      <td>32.60</td>\n",
              "      <td>-85.24</td>\n",
              "      <td>CORRECTS PREVIOUS TORNADO REPORT FROM SALEM. U...</td>\n",
              "      <td>POINT(-85.24 32.6)</td>\n",
              "    </tr>\n",
              "    <tr>\n",
              "      <th>3</th>\n",
              "      <td>2019-03-26 00:13:00 UTC</td>\n",
              "      <td>13</td>\n",
              "      <td>NaN</td>\n",
              "      <td>1 NNW SMITHS STATION</td>\n",
              "      <td>LEE</td>\n",
              "      <td>AL</td>\n",
              "      <td>32.55</td>\n",
              "      <td>-85.10</td>\n",
              "      <td>A TREE WAS DOWNED ONTO A HOME. (BMX)</td>\n",
              "      <td>POINT(-85.1 32.55)</td>\n",
              "    </tr>\n",
              "    <tr>\n",
              "      <th>4</th>\n",
              "      <td>2019-06-07 17:56:00 UTC</td>\n",
              "      <td>1756</td>\n",
              "      <td>NaN</td>\n",
              "      <td>1 SSE ROBERT G. PITTS A</td>\n",
              "      <td>LEE</td>\n",
              "      <td>AL</td>\n",
              "      <td>32.60</td>\n",
              "      <td>-85.42</td>\n",
              "      <td>TREE DOWN ON A HOME. TIME ESTIMATED FROM RADAR...</td>\n",
              "      <td>POINT(-85.42 32.6)</td>\n",
              "    </tr>\n",
              "    <tr>\n",
              "      <th>5</th>\n",
              "      <td>2019-06-07 18:55:00 UTC</td>\n",
              "      <td>1855</td>\n",
              "      <td>NaN</td>\n",
              "      <td>4 SW BEAUREGARD</td>\n",
              "      <td>LEE</td>\n",
              "      <td>AL</td>\n",
              "      <td>32.51</td>\n",
              "      <td>-85.42</td>\n",
              "      <td>MULTIPLE TREES DOWN ON LEE ROAD 29. TIME ESTIM...</td>\n",
              "      <td>POINT(-85.42 32.51)</td>\n",
              "    </tr>\n",
              "    <tr>\n",
              "      <th>6</th>\n",
              "      <td>2019-06-07 19:18:00 UTC</td>\n",
              "      <td>1918</td>\n",
              "      <td>NaN</td>\n",
              "      <td>BEULAH</td>\n",
              "      <td>LEE</td>\n",
              "      <td>AL</td>\n",
              "      <td>32.71</td>\n",
              "      <td>-85.18</td>\n",
              "      <td>TREES DOWN IN BEULAH. TIME ESTIMATED FROM RADA...</td>\n",
              "      <td>POINT(-85.18 32.71)</td>\n",
              "    </tr>\n",
              "    <tr>\n",
              "      <th>7</th>\n",
              "      <td>2019-06-07 19:21:00 UTC</td>\n",
              "      <td>1921</td>\n",
              "      <td>NaN</td>\n",
              "      <td>SMITHS STATION</td>\n",
              "      <td>LEE</td>\n",
              "      <td>AL</td>\n",
              "      <td>32.54</td>\n",
              "      <td>-85.09</td>\n",
              "      <td>MULTIPLE TREES DOWN IN SMITHS STATION. TIME ES...</td>\n",
              "      <td>POINT(-85.09 32.54)</td>\n",
              "    </tr>\n",
              "    <tr>\n",
              "      <th>8</th>\n",
              "      <td>2019-07-09 20:00:00 UTC</td>\n",
              "      <td>2000</td>\n",
              "      <td>NaN</td>\n",
              "      <td>1 SE EW SHELL FISHERIES</td>\n",
              "      <td>LEE</td>\n",
              "      <td>AL</td>\n",
              "      <td>32.67</td>\n",
              "      <td>-85.49</td>\n",
              "      <td>TREES DOWN NEAR THE INTERSECTION OF LEE RD 147...</td>\n",
              "      <td>POINT(-85.49 32.67)</td>\n",
              "    </tr>\n",
              "    <tr>\n",
              "      <th>9</th>\n",
              "      <td>2019-08-05 22:49:00 UTC</td>\n",
              "      <td>2249</td>\n",
              "      <td>NaN</td>\n",
              "      <td>1 ENE MONTEREY HEIGHTS</td>\n",
              "      <td>LEE</td>\n",
              "      <td>AL</td>\n",
              "      <td>32.52</td>\n",
              "      <td>-85.07</td>\n",
              "      <td>CORRECTS PREVIOUS TSTM WND DMG REPORT FROM 1 E...</td>\n",
              "      <td>POINT(-85.07 32.52)</td>\n",
              "    </tr>\n",
              "  </tbody>\n",
              "</table>\n",
              "</div>"
            ],
            "text/plain": [
              "                 timestamp  ...         report_point\n",
              "0  2019-01-19 22:54:00 UTC  ...  POINT(-85.18 32.49)\n",
              "1  2019-02-12 18:11:00 UTC  ...  POINT(-85.13 32.49)\n",
              "2  2019-03-03 20:22:00 UTC  ...   POINT(-85.24 32.6)\n",
              "3  2019-03-26 00:13:00 UTC  ...   POINT(-85.1 32.55)\n",
              "4  2019-06-07 17:56:00 UTC  ...   POINT(-85.42 32.6)\n",
              "5  2019-06-07 18:55:00 UTC  ...  POINT(-85.42 32.51)\n",
              "6  2019-06-07 19:18:00 UTC  ...  POINT(-85.18 32.71)\n",
              "7  2019-06-07 19:21:00 UTC  ...  POINT(-85.09 32.54)\n",
              "8  2019-07-09 20:00:00 UTC  ...  POINT(-85.49 32.67)\n",
              "9  2019-08-05 22:49:00 UTC  ...  POINT(-85.07 32.52)\n",
              "\n",
              "[10 rows x 10 columns]"
            ]
          },
          "metadata": {
            "tags": []
          },
          "execution_count": 15
        }
      ]
    },
    {
      "cell_type": "code",
      "metadata": {
        "id": "pxPIiHRkqNFz",
        "colab_type": "code",
        "colab": {
          "base_uri": "https://localhost:8080/",
          "height": 34
        },
        "outputId": "a36ca94c-2f84-419e-f4f6-4703251e17e2"
      },
      "source": [
        "df_wind.shape"
      ],
      "execution_count": 20,
      "outputs": [
        {
          "output_type": "execute_result",
          "data": {
            "text/plain": [
              "(16064, 10)"
            ]
          },
          "metadata": {
            "tags": []
          },
          "execution_count": 20
        }
      ]
    },
    {
      "cell_type": "code",
      "metadata": {
        "id": "up37joUfqfEp",
        "colab_type": "code",
        "colab": {
          "base_uri": "https://localhost:8080/",
          "height": 68
        },
        "outputId": "64f956f8-846d-4f7e-bf10-998dcb631a00"
      },
      "source": [
        "df_wind.columns"
      ],
      "execution_count": 24,
      "outputs": [
        {
          "output_type": "execute_result",
          "data": {
            "text/plain": [
              "Index(['timestamp', 'time', 'speed', 'location', 'county', 'state', 'latitude',\n",
              "       'longitude', 'comments', 'report_point'],\n",
              "      dtype='object')"
            ]
          },
          "metadata": {
            "tags": []
          },
          "execution_count": 24
        }
      ]
    },
    {
      "cell_type": "code",
      "metadata": {
        "id": "uhM5yETEqlYd",
        "colab_type": "code",
        "colab": {}
      },
      "source": [
        ""
      ],
      "execution_count": null,
      "outputs": []
    }
  ]
}